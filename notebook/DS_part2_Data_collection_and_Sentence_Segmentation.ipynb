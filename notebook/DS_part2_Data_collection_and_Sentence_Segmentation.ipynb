{
  "nbformat": 4,
  "nbformat_minor": 0,
  "metadata": {
    "colab": {
      "provenance": []
    },
    "kernelspec": {
      "name": "python3",
      "display_name": "Python 3"
    },
    "language_info": {
      "name": "python"
    },
    "widgets": {
      "application/vnd.jupyter.widget-state+json": {
        "9aeb02f4b75942a49e51119595b271e4": {
          "model_module": "@jupyter-widgets/controls",
          "model_name": "HBoxModel",
          "model_module_version": "1.5.0",
          "state": {
            "_dom_classes": [],
            "_model_module": "@jupyter-widgets/controls",
            "_model_module_version": "1.5.0",
            "_model_name": "HBoxModel",
            "_view_count": null,
            "_view_module": "@jupyter-widgets/controls",
            "_view_module_version": "1.5.0",
            "_view_name": "HBoxView",
            "box_style": "",
            "children": [
              "IPY_MODEL_00e462053a5449cd8462acfbc4e0d9f6",
              "IPY_MODEL_96a7f756fd7f4ed7ab3cf16a22fb825a",
              "IPY_MODEL_7ece109dadf6480d90d86ef84af8530d"
            ],
            "layout": "IPY_MODEL_24b0d1f1d7634bb6b35c5dfc065b0030"
          }
        },
        "00e462053a5449cd8462acfbc4e0d9f6": {
          "model_module": "@jupyter-widgets/controls",
          "model_name": "HTMLModel",
          "model_module_version": "1.5.0",
          "state": {
            "_dom_classes": [],
            "_model_module": "@jupyter-widgets/controls",
            "_model_module_version": "1.5.0",
            "_model_name": "HTMLModel",
            "_view_count": null,
            "_view_module": "@jupyter-widgets/controls",
            "_view_module_version": "1.5.0",
            "_view_name": "HTMLView",
            "description": "",
            "description_tooltip": null,
            "layout": "IPY_MODEL_6ab2e7900b5a40e5ba08871d82c40761",
            "placeholder": "​",
            "style": "IPY_MODEL_95ff4cce832349bc86e94bf2150af0ac",
            "value": "Downloading https://raw.githubusercontent.com/stanfordnlp/stanza-resources/main/resources_1.5.0.json: "
          }
        },
        "96a7f756fd7f4ed7ab3cf16a22fb825a": {
          "model_module": "@jupyter-widgets/controls",
          "model_name": "FloatProgressModel",
          "model_module_version": "1.5.0",
          "state": {
            "_dom_classes": [],
            "_model_module": "@jupyter-widgets/controls",
            "_model_module_version": "1.5.0",
            "_model_name": "FloatProgressModel",
            "_view_count": null,
            "_view_module": "@jupyter-widgets/controls",
            "_view_module_version": "1.5.0",
            "_view_name": "ProgressView",
            "bar_style": "success",
            "description": "",
            "description_tooltip": null,
            "layout": "IPY_MODEL_c37a49bc26374e73b3fa5535eff39e79",
            "max": 30015,
            "min": 0,
            "orientation": "horizontal",
            "style": "IPY_MODEL_0ecb2647642844dd971837131296a72e",
            "value": 30015
          }
        },
        "7ece109dadf6480d90d86ef84af8530d": {
          "model_module": "@jupyter-widgets/controls",
          "model_name": "HTMLModel",
          "model_module_version": "1.5.0",
          "state": {
            "_dom_classes": [],
            "_model_module": "@jupyter-widgets/controls",
            "_model_module_version": "1.5.0",
            "_model_name": "HTMLModel",
            "_view_count": null,
            "_view_module": "@jupyter-widgets/controls",
            "_view_module_version": "1.5.0",
            "_view_name": "HTMLView",
            "description": "",
            "description_tooltip": null,
            "layout": "IPY_MODEL_2641ce6c2c5649dfb2cdfaa2b601d89e",
            "placeholder": "​",
            "style": "IPY_MODEL_ad32a89b6ef84f2080daaee4e04913b6",
            "value": " 216k/? [00:00&lt;00:00, 8.22MB/s]"
          }
        },
        "24b0d1f1d7634bb6b35c5dfc065b0030": {
          "model_module": "@jupyter-widgets/base",
          "model_name": "LayoutModel",
          "model_module_version": "1.2.0",
          "state": {
            "_model_module": "@jupyter-widgets/base",
            "_model_module_version": "1.2.0",
            "_model_name": "LayoutModel",
            "_view_count": null,
            "_view_module": "@jupyter-widgets/base",
            "_view_module_version": "1.2.0",
            "_view_name": "LayoutView",
            "align_content": null,
            "align_items": null,
            "align_self": null,
            "border": null,
            "bottom": null,
            "display": null,
            "flex": null,
            "flex_flow": null,
            "grid_area": null,
            "grid_auto_columns": null,
            "grid_auto_flow": null,
            "grid_auto_rows": null,
            "grid_column": null,
            "grid_gap": null,
            "grid_row": null,
            "grid_template_areas": null,
            "grid_template_columns": null,
            "grid_template_rows": null,
            "height": null,
            "justify_content": null,
            "justify_items": null,
            "left": null,
            "margin": null,
            "max_height": null,
            "max_width": null,
            "min_height": null,
            "min_width": null,
            "object_fit": null,
            "object_position": null,
            "order": null,
            "overflow": null,
            "overflow_x": null,
            "overflow_y": null,
            "padding": null,
            "right": null,
            "top": null,
            "visibility": null,
            "width": null
          }
        },
        "6ab2e7900b5a40e5ba08871d82c40761": {
          "model_module": "@jupyter-widgets/base",
          "model_name": "LayoutModel",
          "model_module_version": "1.2.0",
          "state": {
            "_model_module": "@jupyter-widgets/base",
            "_model_module_version": "1.2.0",
            "_model_name": "LayoutModel",
            "_view_count": null,
            "_view_module": "@jupyter-widgets/base",
            "_view_module_version": "1.2.0",
            "_view_name": "LayoutView",
            "align_content": null,
            "align_items": null,
            "align_self": null,
            "border": null,
            "bottom": null,
            "display": null,
            "flex": null,
            "flex_flow": null,
            "grid_area": null,
            "grid_auto_columns": null,
            "grid_auto_flow": null,
            "grid_auto_rows": null,
            "grid_column": null,
            "grid_gap": null,
            "grid_row": null,
            "grid_template_areas": null,
            "grid_template_columns": null,
            "grid_template_rows": null,
            "height": null,
            "justify_content": null,
            "justify_items": null,
            "left": null,
            "margin": null,
            "max_height": null,
            "max_width": null,
            "min_height": null,
            "min_width": null,
            "object_fit": null,
            "object_position": null,
            "order": null,
            "overflow": null,
            "overflow_x": null,
            "overflow_y": null,
            "padding": null,
            "right": null,
            "top": null,
            "visibility": null,
            "width": null
          }
        },
        "95ff4cce832349bc86e94bf2150af0ac": {
          "model_module": "@jupyter-widgets/controls",
          "model_name": "DescriptionStyleModel",
          "model_module_version": "1.5.0",
          "state": {
            "_model_module": "@jupyter-widgets/controls",
            "_model_module_version": "1.5.0",
            "_model_name": "DescriptionStyleModel",
            "_view_count": null,
            "_view_module": "@jupyter-widgets/base",
            "_view_module_version": "1.2.0",
            "_view_name": "StyleView",
            "description_width": ""
          }
        },
        "c37a49bc26374e73b3fa5535eff39e79": {
          "model_module": "@jupyter-widgets/base",
          "model_name": "LayoutModel",
          "model_module_version": "1.2.0",
          "state": {
            "_model_module": "@jupyter-widgets/base",
            "_model_module_version": "1.2.0",
            "_model_name": "LayoutModel",
            "_view_count": null,
            "_view_module": "@jupyter-widgets/base",
            "_view_module_version": "1.2.0",
            "_view_name": "LayoutView",
            "align_content": null,
            "align_items": null,
            "align_self": null,
            "border": null,
            "bottom": null,
            "display": null,
            "flex": null,
            "flex_flow": null,
            "grid_area": null,
            "grid_auto_columns": null,
            "grid_auto_flow": null,
            "grid_auto_rows": null,
            "grid_column": null,
            "grid_gap": null,
            "grid_row": null,
            "grid_template_areas": null,
            "grid_template_columns": null,
            "grid_template_rows": null,
            "height": null,
            "justify_content": null,
            "justify_items": null,
            "left": null,
            "margin": null,
            "max_height": null,
            "max_width": null,
            "min_height": null,
            "min_width": null,
            "object_fit": null,
            "object_position": null,
            "order": null,
            "overflow": null,
            "overflow_x": null,
            "overflow_y": null,
            "padding": null,
            "right": null,
            "top": null,
            "visibility": null,
            "width": null
          }
        },
        "0ecb2647642844dd971837131296a72e": {
          "model_module": "@jupyter-widgets/controls",
          "model_name": "ProgressStyleModel",
          "model_module_version": "1.5.0",
          "state": {
            "_model_module": "@jupyter-widgets/controls",
            "_model_module_version": "1.5.0",
            "_model_name": "ProgressStyleModel",
            "_view_count": null,
            "_view_module": "@jupyter-widgets/base",
            "_view_module_version": "1.2.0",
            "_view_name": "StyleView",
            "bar_color": null,
            "description_width": ""
          }
        },
        "2641ce6c2c5649dfb2cdfaa2b601d89e": {
          "model_module": "@jupyter-widgets/base",
          "model_name": "LayoutModel",
          "model_module_version": "1.2.0",
          "state": {
            "_model_module": "@jupyter-widgets/base",
            "_model_module_version": "1.2.0",
            "_model_name": "LayoutModel",
            "_view_count": null,
            "_view_module": "@jupyter-widgets/base",
            "_view_module_version": "1.2.0",
            "_view_name": "LayoutView",
            "align_content": null,
            "align_items": null,
            "align_self": null,
            "border": null,
            "bottom": null,
            "display": null,
            "flex": null,
            "flex_flow": null,
            "grid_area": null,
            "grid_auto_columns": null,
            "grid_auto_flow": null,
            "grid_auto_rows": null,
            "grid_column": null,
            "grid_gap": null,
            "grid_row": null,
            "grid_template_areas": null,
            "grid_template_columns": null,
            "grid_template_rows": null,
            "height": null,
            "justify_content": null,
            "justify_items": null,
            "left": null,
            "margin": null,
            "max_height": null,
            "max_width": null,
            "min_height": null,
            "min_width": null,
            "object_fit": null,
            "object_position": null,
            "order": null,
            "overflow": null,
            "overflow_x": null,
            "overflow_y": null,
            "padding": null,
            "right": null,
            "top": null,
            "visibility": null,
            "width": null
          }
        },
        "ad32a89b6ef84f2080daaee4e04913b6": {
          "model_module": "@jupyter-widgets/controls",
          "model_name": "DescriptionStyleModel",
          "model_module_version": "1.5.0",
          "state": {
            "_model_module": "@jupyter-widgets/controls",
            "_model_module_version": "1.5.0",
            "_model_name": "DescriptionStyleModel",
            "_view_count": null,
            "_view_module": "@jupyter-widgets/base",
            "_view_module_version": "1.2.0",
            "_view_name": "StyleView",
            "description_width": ""
          }
        },
        "18724882f3da457aa48c031a1466362e": {
          "model_module": "@jupyter-widgets/controls",
          "model_name": "HBoxModel",
          "model_module_version": "1.5.0",
          "state": {
            "_dom_classes": [],
            "_model_module": "@jupyter-widgets/controls",
            "_model_module_version": "1.5.0",
            "_model_name": "HBoxModel",
            "_view_count": null,
            "_view_module": "@jupyter-widgets/controls",
            "_view_module_version": "1.5.0",
            "_view_name": "HBoxView",
            "box_style": "",
            "children": [
              "IPY_MODEL_2654d5782e484b78b4e8ba01560b89c1",
              "IPY_MODEL_d6b5b8c76226492dbf7c48893b7a43a2",
              "IPY_MODEL_19357aaa247f44b69d04414af8b95cfc"
            ],
            "layout": "IPY_MODEL_a838aab3275c473db21a6bb4765ed32c"
          }
        },
        "2654d5782e484b78b4e8ba01560b89c1": {
          "model_module": "@jupyter-widgets/controls",
          "model_name": "HTMLModel",
          "model_module_version": "1.5.0",
          "state": {
            "_dom_classes": [],
            "_model_module": "@jupyter-widgets/controls",
            "_model_module_version": "1.5.0",
            "_model_name": "HTMLModel",
            "_view_count": null,
            "_view_module": "@jupyter-widgets/controls",
            "_view_module_version": "1.5.0",
            "_view_name": "HTMLView",
            "description": "",
            "description_tooltip": null,
            "layout": "IPY_MODEL_f7724385c2714a8aab9043094b312980",
            "placeholder": "​",
            "style": "IPY_MODEL_375f5b6b97d246be888148c1c66fdb1d",
            "value": "Downloading https://raw.githubusercontent.com/stanfordnlp/stanza-resources/main/resources_1.5.0.json: "
          }
        },
        "d6b5b8c76226492dbf7c48893b7a43a2": {
          "model_module": "@jupyter-widgets/controls",
          "model_name": "FloatProgressModel",
          "model_module_version": "1.5.0",
          "state": {
            "_dom_classes": [],
            "_model_module": "@jupyter-widgets/controls",
            "_model_module_version": "1.5.0",
            "_model_name": "FloatProgressModel",
            "_view_count": null,
            "_view_module": "@jupyter-widgets/controls",
            "_view_module_version": "1.5.0",
            "_view_name": "ProgressView",
            "bar_style": "success",
            "description": "",
            "description_tooltip": null,
            "layout": "IPY_MODEL_d23bdf913ff2412c9b60b1bcde5b53a2",
            "max": 30015,
            "min": 0,
            "orientation": "horizontal",
            "style": "IPY_MODEL_56762d7ad81041c48cea373a8ae15c6b",
            "value": 30015
          }
        },
        "19357aaa247f44b69d04414af8b95cfc": {
          "model_module": "@jupyter-widgets/controls",
          "model_name": "HTMLModel",
          "model_module_version": "1.5.0",
          "state": {
            "_dom_classes": [],
            "_model_module": "@jupyter-widgets/controls",
            "_model_module_version": "1.5.0",
            "_model_name": "HTMLModel",
            "_view_count": null,
            "_view_module": "@jupyter-widgets/controls",
            "_view_module_version": "1.5.0",
            "_view_name": "HTMLView",
            "description": "",
            "description_tooltip": null,
            "layout": "IPY_MODEL_87d3fc3f06224e92b792abb1d247d626",
            "placeholder": "​",
            "style": "IPY_MODEL_4b2c1dbdda694f25b6011f02eb268167",
            "value": " 216k/? [00:00&lt;00:00, 10.4MB/s]"
          }
        },
        "a838aab3275c473db21a6bb4765ed32c": {
          "model_module": "@jupyter-widgets/base",
          "model_name": "LayoutModel",
          "model_module_version": "1.2.0",
          "state": {
            "_model_module": "@jupyter-widgets/base",
            "_model_module_version": "1.2.0",
            "_model_name": "LayoutModel",
            "_view_count": null,
            "_view_module": "@jupyter-widgets/base",
            "_view_module_version": "1.2.0",
            "_view_name": "LayoutView",
            "align_content": null,
            "align_items": null,
            "align_self": null,
            "border": null,
            "bottom": null,
            "display": null,
            "flex": null,
            "flex_flow": null,
            "grid_area": null,
            "grid_auto_columns": null,
            "grid_auto_flow": null,
            "grid_auto_rows": null,
            "grid_column": null,
            "grid_gap": null,
            "grid_row": null,
            "grid_template_areas": null,
            "grid_template_columns": null,
            "grid_template_rows": null,
            "height": null,
            "justify_content": null,
            "justify_items": null,
            "left": null,
            "margin": null,
            "max_height": null,
            "max_width": null,
            "min_height": null,
            "min_width": null,
            "object_fit": null,
            "object_position": null,
            "order": null,
            "overflow": null,
            "overflow_x": null,
            "overflow_y": null,
            "padding": null,
            "right": null,
            "top": null,
            "visibility": null,
            "width": null
          }
        },
        "f7724385c2714a8aab9043094b312980": {
          "model_module": "@jupyter-widgets/base",
          "model_name": "LayoutModel",
          "model_module_version": "1.2.0",
          "state": {
            "_model_module": "@jupyter-widgets/base",
            "_model_module_version": "1.2.0",
            "_model_name": "LayoutModel",
            "_view_count": null,
            "_view_module": "@jupyter-widgets/base",
            "_view_module_version": "1.2.0",
            "_view_name": "LayoutView",
            "align_content": null,
            "align_items": null,
            "align_self": null,
            "border": null,
            "bottom": null,
            "display": null,
            "flex": null,
            "flex_flow": null,
            "grid_area": null,
            "grid_auto_columns": null,
            "grid_auto_flow": null,
            "grid_auto_rows": null,
            "grid_column": null,
            "grid_gap": null,
            "grid_row": null,
            "grid_template_areas": null,
            "grid_template_columns": null,
            "grid_template_rows": null,
            "height": null,
            "justify_content": null,
            "justify_items": null,
            "left": null,
            "margin": null,
            "max_height": null,
            "max_width": null,
            "min_height": null,
            "min_width": null,
            "object_fit": null,
            "object_position": null,
            "order": null,
            "overflow": null,
            "overflow_x": null,
            "overflow_y": null,
            "padding": null,
            "right": null,
            "top": null,
            "visibility": null,
            "width": null
          }
        },
        "375f5b6b97d246be888148c1c66fdb1d": {
          "model_module": "@jupyter-widgets/controls",
          "model_name": "DescriptionStyleModel",
          "model_module_version": "1.5.0",
          "state": {
            "_model_module": "@jupyter-widgets/controls",
            "_model_module_version": "1.5.0",
            "_model_name": "DescriptionStyleModel",
            "_view_count": null,
            "_view_module": "@jupyter-widgets/base",
            "_view_module_version": "1.2.0",
            "_view_name": "StyleView",
            "description_width": ""
          }
        },
        "d23bdf913ff2412c9b60b1bcde5b53a2": {
          "model_module": "@jupyter-widgets/base",
          "model_name": "LayoutModel",
          "model_module_version": "1.2.0",
          "state": {
            "_model_module": "@jupyter-widgets/base",
            "_model_module_version": "1.2.0",
            "_model_name": "LayoutModel",
            "_view_count": null,
            "_view_module": "@jupyter-widgets/base",
            "_view_module_version": "1.2.0",
            "_view_name": "LayoutView",
            "align_content": null,
            "align_items": null,
            "align_self": null,
            "border": null,
            "bottom": null,
            "display": null,
            "flex": null,
            "flex_flow": null,
            "grid_area": null,
            "grid_auto_columns": null,
            "grid_auto_flow": null,
            "grid_auto_rows": null,
            "grid_column": null,
            "grid_gap": null,
            "grid_row": null,
            "grid_template_areas": null,
            "grid_template_columns": null,
            "grid_template_rows": null,
            "height": null,
            "justify_content": null,
            "justify_items": null,
            "left": null,
            "margin": null,
            "max_height": null,
            "max_width": null,
            "min_height": null,
            "min_width": null,
            "object_fit": null,
            "object_position": null,
            "order": null,
            "overflow": null,
            "overflow_x": null,
            "overflow_y": null,
            "padding": null,
            "right": null,
            "top": null,
            "visibility": null,
            "width": null
          }
        },
        "56762d7ad81041c48cea373a8ae15c6b": {
          "model_module": "@jupyter-widgets/controls",
          "model_name": "ProgressStyleModel",
          "model_module_version": "1.5.0",
          "state": {
            "_model_module": "@jupyter-widgets/controls",
            "_model_module_version": "1.5.0",
            "_model_name": "ProgressStyleModel",
            "_view_count": null,
            "_view_module": "@jupyter-widgets/base",
            "_view_module_version": "1.2.0",
            "_view_name": "StyleView",
            "bar_color": null,
            "description_width": ""
          }
        },
        "87d3fc3f06224e92b792abb1d247d626": {
          "model_module": "@jupyter-widgets/base",
          "model_name": "LayoutModel",
          "model_module_version": "1.2.0",
          "state": {
            "_model_module": "@jupyter-widgets/base",
            "_model_module_version": "1.2.0",
            "_model_name": "LayoutModel",
            "_view_count": null,
            "_view_module": "@jupyter-widgets/base",
            "_view_module_version": "1.2.0",
            "_view_name": "LayoutView",
            "align_content": null,
            "align_items": null,
            "align_self": null,
            "border": null,
            "bottom": null,
            "display": null,
            "flex": null,
            "flex_flow": null,
            "grid_area": null,
            "grid_auto_columns": null,
            "grid_auto_flow": null,
            "grid_auto_rows": null,
            "grid_column": null,
            "grid_gap": null,
            "grid_row": null,
            "grid_template_areas": null,
            "grid_template_columns": null,
            "grid_template_rows": null,
            "height": null,
            "justify_content": null,
            "justify_items": null,
            "left": null,
            "margin": null,
            "max_height": null,
            "max_width": null,
            "min_height": null,
            "min_width": null,
            "object_fit": null,
            "object_position": null,
            "order": null,
            "overflow": null,
            "overflow_x": null,
            "overflow_y": null,
            "padding": null,
            "right": null,
            "top": null,
            "visibility": null,
            "width": null
          }
        },
        "4b2c1dbdda694f25b6011f02eb268167": {
          "model_module": "@jupyter-widgets/controls",
          "model_name": "DescriptionStyleModel",
          "model_module_version": "1.5.0",
          "state": {
            "_model_module": "@jupyter-widgets/controls",
            "_model_module_version": "1.5.0",
            "_model_name": "DescriptionStyleModel",
            "_view_count": null,
            "_view_module": "@jupyter-widgets/base",
            "_view_module_version": "1.2.0",
            "_view_name": "StyleView",
            "description_width": ""
          }
        }
      }
    }
  },
  "cells": [
    {
      "cell_type": "markdown",
      "source": [
        "Here is the starting of Part 2 of our Data Science project 1.data Collection and Sentence Segmentation. We are here trying to collect text data using URL and compare with different python libraries like spacy,stanza and nltk."
      ],
      "metadata": {
        "id": "ZgP1y-W5QzLC"
      }
    },
    {
      "cell_type": "code",
      "source": [
        "!pip install spacy\n",
        "!pip install stanza"
      ],
      "metadata": {
        "colab": {
          "base_uri": "https://localhost:8080/"
        },
        "id": "vyyfUrC26uKa",
        "outputId": "67c41b08-c0ad-4ef8-da39-557409e002ae"
      },
      "execution_count": 2,
      "outputs": [
        {
          "output_type": "stream",
          "name": "stdout",
          "text": [
            "Looking in indexes: https://pypi.org/simple, https://us-python.pkg.dev/colab-wheels/public/simple/\n",
            "Requirement already satisfied: spacy in /usr/local/lib/python3.10/dist-packages (3.5.2)\n",
            "Requirement already satisfied: wasabi<1.2.0,>=0.9.1 in /usr/local/lib/python3.10/dist-packages (from spacy) (1.1.1)\n",
            "Requirement already satisfied: tqdm<5.0.0,>=4.38.0 in /usr/local/lib/python3.10/dist-packages (from spacy) (4.65.0)\n",
            "Requirement already satisfied: numpy>=1.15.0 in /usr/local/lib/python3.10/dist-packages (from spacy) (1.22.4)\n",
            "Requirement already satisfied: srsly<3.0.0,>=2.4.3 in /usr/local/lib/python3.10/dist-packages (from spacy) (2.4.6)\n",
            "Requirement already satisfied: packaging>=20.0 in /usr/local/lib/python3.10/dist-packages (from spacy) (23.1)\n",
            "Requirement already satisfied: catalogue<2.1.0,>=2.0.6 in /usr/local/lib/python3.10/dist-packages (from spacy) (2.0.8)\n",
            "Requirement already satisfied: requests<3.0.0,>=2.13.0 in /usr/local/lib/python3.10/dist-packages (from spacy) (2.27.1)\n",
            "Requirement already satisfied: spacy-legacy<3.1.0,>=3.0.11 in /usr/local/lib/python3.10/dist-packages (from spacy) (3.0.12)\n",
            "Requirement already satisfied: smart-open<7.0.0,>=5.2.1 in /usr/local/lib/python3.10/dist-packages (from spacy) (6.3.0)\n",
            "Requirement already satisfied: setuptools in /usr/local/lib/python3.10/dist-packages (from spacy) (67.7.2)\n",
            "Requirement already satisfied: typer<0.8.0,>=0.3.0 in /usr/local/lib/python3.10/dist-packages (from spacy) (0.7.0)\n",
            "Requirement already satisfied: langcodes<4.0.0,>=3.2.0 in /usr/local/lib/python3.10/dist-packages (from spacy) (3.3.0)\n",
            "Requirement already satisfied: pydantic!=1.8,!=1.8.1,<1.11.0,>=1.7.4 in /usr/local/lib/python3.10/dist-packages (from spacy) (1.10.7)\n",
            "Requirement already satisfied: preshed<3.1.0,>=3.0.2 in /usr/local/lib/python3.10/dist-packages (from spacy) (3.0.8)\n",
            "Requirement already satisfied: spacy-loggers<2.0.0,>=1.0.0 in /usr/local/lib/python3.10/dist-packages (from spacy) (1.0.4)\n",
            "Requirement already satisfied: cymem<2.1.0,>=2.0.2 in /usr/local/lib/python3.10/dist-packages (from spacy) (2.0.7)\n",
            "Requirement already satisfied: jinja2 in /usr/local/lib/python3.10/dist-packages (from spacy) (3.1.2)\n",
            "Requirement already satisfied: pathy>=0.10.0 in /usr/local/lib/python3.10/dist-packages (from spacy) (0.10.1)\n",
            "Requirement already satisfied: thinc<8.2.0,>=8.1.8 in /usr/local/lib/python3.10/dist-packages (from spacy) (8.1.9)\n",
            "Requirement already satisfied: murmurhash<1.1.0,>=0.28.0 in /usr/local/lib/python3.10/dist-packages (from spacy) (1.0.9)\n",
            "Requirement already satisfied: typing-extensions>=4.2.0 in /usr/local/lib/python3.10/dist-packages (from pydantic!=1.8,!=1.8.1,<1.11.0,>=1.7.4->spacy) (4.5.0)\n",
            "Requirement already satisfied: idna<4,>=2.5 in /usr/local/lib/python3.10/dist-packages (from requests<3.0.0,>=2.13.0->spacy) (3.4)\n",
            "Requirement already satisfied: urllib3<1.27,>=1.21.1 in /usr/local/lib/python3.10/dist-packages (from requests<3.0.0,>=2.13.0->spacy) (1.26.15)\n",
            "Requirement already satisfied: certifi>=2017.4.17 in /usr/local/lib/python3.10/dist-packages (from requests<3.0.0,>=2.13.0->spacy) (2022.12.7)\n",
            "Requirement already satisfied: charset-normalizer~=2.0.0 in /usr/local/lib/python3.10/dist-packages (from requests<3.0.0,>=2.13.0->spacy) (2.0.12)\n",
            "Requirement already satisfied: blis<0.8.0,>=0.7.8 in /usr/local/lib/python3.10/dist-packages (from thinc<8.2.0,>=8.1.8->spacy) (0.7.9)\n",
            "Requirement already satisfied: confection<1.0.0,>=0.0.1 in /usr/local/lib/python3.10/dist-packages (from thinc<8.2.0,>=8.1.8->spacy) (0.0.4)\n",
            "Requirement already satisfied: click<9.0.0,>=7.1.1 in /usr/local/lib/python3.10/dist-packages (from typer<0.8.0,>=0.3.0->spacy) (8.1.3)\n",
            "Requirement already satisfied: MarkupSafe>=2.0 in /usr/local/lib/python3.10/dist-packages (from jinja2->spacy) (2.1.2)\n",
            "Looking in indexes: https://pypi.org/simple, https://us-python.pkg.dev/colab-wheels/public/simple/\n",
            "Collecting stanza\n",
            "  Downloading stanza-1.5.0-py3-none-any.whl (802 kB)\n",
            "\u001b[2K     \u001b[90m━━━━━━━━━━━━━━━━━━━━━━━━━━━━━━━━━━━━━━\u001b[0m \u001b[32m802.5/802.5 kB\u001b[0m \u001b[31m20.8 MB/s\u001b[0m eta \u001b[36m0:00:00\u001b[0m\n",
            "\u001b[?25hCollecting emoji\n",
            "  Downloading emoji-2.2.0.tar.gz (240 kB)\n",
            "\u001b[2K     \u001b[90m━━━━━━━━━━━━━━━━━━━━━━━━━━━━━━━━━━━━━━\u001b[0m \u001b[32m240.9/240.9 kB\u001b[0m \u001b[31m22.2 MB/s\u001b[0m eta \u001b[36m0:00:00\u001b[0m\n",
            "\u001b[?25h  Preparing metadata (setup.py) ... \u001b[?25l\u001b[?25hdone\n",
            "Requirement already satisfied: requests in /usr/local/lib/python3.10/dist-packages (from stanza) (2.27.1)\n",
            "Requirement already satisfied: protobuf in /usr/local/lib/python3.10/dist-packages (from stanza) (3.20.3)\n",
            "Requirement already satisfied: torch>=1.3.0 in /usr/local/lib/python3.10/dist-packages (from stanza) (2.0.0+cu118)\n",
            "Requirement already satisfied: tqdm in /usr/local/lib/python3.10/dist-packages (from stanza) (4.65.0)\n",
            "Requirement already satisfied: numpy in /usr/local/lib/python3.10/dist-packages (from stanza) (1.22.4)\n",
            "Requirement already satisfied: six in /usr/local/lib/python3.10/dist-packages (from stanza) (1.16.0)\n",
            "Requirement already satisfied: triton==2.0.0 in /usr/local/lib/python3.10/dist-packages (from torch>=1.3.0->stanza) (2.0.0)\n",
            "Requirement already satisfied: typing-extensions in /usr/local/lib/python3.10/dist-packages (from torch>=1.3.0->stanza) (4.5.0)\n",
            "Requirement already satisfied: filelock in /usr/local/lib/python3.10/dist-packages (from torch>=1.3.0->stanza) (3.12.0)\n",
            "Requirement already satisfied: jinja2 in /usr/local/lib/python3.10/dist-packages (from torch>=1.3.0->stanza) (3.1.2)\n",
            "Requirement already satisfied: sympy in /usr/local/lib/python3.10/dist-packages (from torch>=1.3.0->stanza) (1.11.1)\n",
            "Requirement already satisfied: networkx in /usr/local/lib/python3.10/dist-packages (from torch>=1.3.0->stanza) (3.1)\n",
            "Requirement already satisfied: cmake in /usr/local/lib/python3.10/dist-packages (from triton==2.0.0->torch>=1.3.0->stanza) (3.25.2)\n",
            "Requirement already satisfied: lit in /usr/local/lib/python3.10/dist-packages (from triton==2.0.0->torch>=1.3.0->stanza) (16.0.2)\n",
            "Requirement already satisfied: urllib3<1.27,>=1.21.1 in /usr/local/lib/python3.10/dist-packages (from requests->stanza) (1.26.15)\n",
            "Requirement already satisfied: idna<4,>=2.5 in /usr/local/lib/python3.10/dist-packages (from requests->stanza) (3.4)\n",
            "Requirement already satisfied: charset-normalizer~=2.0.0 in /usr/local/lib/python3.10/dist-packages (from requests->stanza) (2.0.12)\n",
            "Requirement already satisfied: certifi>=2017.4.17 in /usr/local/lib/python3.10/dist-packages (from requests->stanza) (2022.12.7)\n",
            "Requirement already satisfied: MarkupSafe>=2.0 in /usr/local/lib/python3.10/dist-packages (from jinja2->torch>=1.3.0->stanza) (2.1.2)\n",
            "Requirement already satisfied: mpmath>=0.19 in /usr/local/lib/python3.10/dist-packages (from sympy->torch>=1.3.0->stanza) (1.3.0)\n",
            "Building wheels for collected packages: emoji\n",
            "  Building wheel for emoji (setup.py) ... \u001b[?25l\u001b[?25hdone\n",
            "  Created wheel for emoji: filename=emoji-2.2.0-py3-none-any.whl size=234926 sha256=fab998fb459c87a72231c325987da548a36fe9174a8a4936becb4a4a0e955dcd\n",
            "  Stored in directory: /root/.cache/pip/wheels/02/3d/88/51a592b9ad17e7899126563698b4e3961983ebe85747228ba6\n",
            "Successfully built emoji\n",
            "Installing collected packages: emoji, stanza\n",
            "Successfully installed emoji-2.2.0 stanza-1.5.0\n"
          ]
        }
      ]
    },
    {
      "cell_type": "code",
      "source": [
        "#using Spacy and Stanza "
      ],
      "metadata": {
        "id": "1_p9JRnaRzk5"
      },
      "execution_count": 23,
      "outputs": []
    },
    {
      "cell_type": "code",
      "source": [
        "import requests\n",
        "from bs4 import BeautifulSoup\n",
        "import re\n",
        "import pandas as pd\n",
        "import spacy\n",
        "import stanza\n",
        "\n",
        "# Download the Spacy English model\n",
        "spacy.load('en_core_web_sm')\n",
        "\n",
        "# Download the Stanza English model\n",
        "stanza.download('en')\n",
        "\n",
        "# Load the Spacy English model\n",
        "spacy_nlp = spacy.load('en_core_web_sm')\n",
        "\n",
        "# Load the Stanza English model\n",
        "stanza_nlp = stanza.Pipeline(lang='en', processors='tokenize')\n",
        "\n",
        "def create_text_dataset(src, n):\n",
        "    if src.startswith('http'):\n",
        "        response = requests.get(src)\n",
        "        soup = BeautifulSoup(response.content, 'html.parser')\n",
        "        text = soup.get_text()\n",
        "    else:\n",
        "        with open(src, 'r') as f:\n",
        "            text = f.read()\n",
        "\n",
        "\n",
        " # Use Spacy to split sentences and extract only the main content\n",
        "    doc = spacy_nlp(text)\n",
        "    main_content = []\n",
        "    for chunk in doc.noun_chunks:\n",
        "        if chunk.root.dep_ == 'nsubj' and chunk.root.head.pos_ == 'VERB':\n",
        "            sentence = chunk.sent\n",
        "            main_content.append(sentence.text)\n",
        "\n",
        "    sentences = re.split(r'(?<!\\w\\.\\w.)(?<![A-Z][a-z]\\.)(?<=\\.|\\?)\\s', text)\n",
        "\n",
        "    # Filter out any empty strings or strings containing only whitespace\n",
        "    sentences = [s.strip() for s in sentences if s.strip()]\n",
        "\n",
        "    if n > len(sentences):\n",
        "        raise ValueError(\"Dataset size exceeds the number of available sentences.\")\n",
        "\n",
        "    # Use Spacy to split sentences\n",
        "    spacy_sentences = [sent.text for sent in spacy_nlp(text).sents]\n",
        "    spacy_sentences = [re.sub(r'[\\n^]', ' ', sent) for sent in spacy_sentences]\n",
        "\n",
        "\n",
        "    # Use Stanza to split sentences\n",
        "    stanza_sentences = [sent.text for sent in stanza_nlp(text).sentences]\n",
        "    stanza_sentences = [re.sub(r'[\\n^]', ' ', sent) for sent in stanza_sentences]\n",
        "\n",
        "    # Create a dataframe with the sentences\n",
        "    df = pd.DataFrame({'original': sentences[:n], 'spacy': spacy_sentences[:n], 'stanza': stanza_sentences[:n]})\n",
        "\n",
        "    return df\n",
        "\n",
        "def get_shared_sentences(df):\n",
        "    # Get the set of sentences recognized by both Spacy and Stanza\n",
        "    spacy_set = set(df['spacy'])\n",
        "    stanza_set = set(df['stanza'])\n",
        "    shared_set = spacy_set.intersection(stanza_set)\n",
        "\n",
        "    # Create a dataframe with the shared sentences\n",
        "    shared_df = pd.DataFrame({'sentence': list(shared_set)})\n",
        "\n",
        "    return shared_df\n",
        "\n",
        "# with url\n",
        "src = \"https://en.wikipedia.org/wiki/List_of_female_scientists_in_the_20th_century\"\n",
        "n = 100\n",
        "dataset = create_text_dataset(src, n)\n",
        "\n",
        "# Compute and output the number of sentences produced by Spacy and Stanza\n",
        "num_spacy_sentences = len(dataset['spacy'])\n",
        "num_stanza_sentences = len(dataset['stanza'])\n",
        "print(f\"Number of sentences produced by Spacy: {num_spacy_sentences}\")\n",
        "print(f\"Number of sentences produced by Stanza: {num_stanza_sentences}\")\n",
        "\n",
        "# Output the set of sentences recognized by both libraries\n",
        "shared_df = get_shared_sentences(dataset)\n",
        "shared_df.to_csv('shared_sentences.csv', index=False)\n",
        "print(f\"Number of shared sentences: {len(shared_df)}\")\n",
        "print(shared_df.head())\n"
      ],
      "metadata": {
        "colab": {
          "base_uri": "https://localhost:8080/",
          "height": 448,
          "referenced_widgets": [
            "9aeb02f4b75942a49e51119595b271e4",
            "00e462053a5449cd8462acfbc4e0d9f6",
            "96a7f756fd7f4ed7ab3cf16a22fb825a",
            "7ece109dadf6480d90d86ef84af8530d",
            "24b0d1f1d7634bb6b35c5dfc065b0030",
            "6ab2e7900b5a40e5ba08871d82c40761",
            "95ff4cce832349bc86e94bf2150af0ac",
            "c37a49bc26374e73b3fa5535eff39e79",
            "0ecb2647642844dd971837131296a72e",
            "2641ce6c2c5649dfb2cdfaa2b601d89e",
            "ad32a89b6ef84f2080daaee4e04913b6",
            "18724882f3da457aa48c031a1466362e",
            "2654d5782e484b78b4e8ba01560b89c1",
            "d6b5b8c76226492dbf7c48893b7a43a2",
            "19357aaa247f44b69d04414af8b95cfc",
            "a838aab3275c473db21a6bb4765ed32c",
            "f7724385c2714a8aab9043094b312980",
            "375f5b6b97d246be888148c1c66fdb1d",
            "d23bdf913ff2412c9b60b1bcde5b53a2",
            "56762d7ad81041c48cea373a8ae15c6b",
            "87d3fc3f06224e92b792abb1d247d626",
            "4b2c1dbdda694f25b6011f02eb268167"
          ]
        },
        "id": "Jr8nwozmIYuZ",
        "outputId": "d6679458-e393-4685-c50d-577ea552c55a"
      },
      "execution_count": 16,
      "outputs": [
        {
          "output_type": "display_data",
          "data": {
            "text/plain": [
              "Downloading https://raw.githubusercontent.com/stanfordnlp/stanza-resources/main/resources_1.5.0.json:   0%|   …"
            ],
            "application/vnd.jupyter.widget-view+json": {
              "version_major": 2,
              "version_minor": 0,
              "model_id": "9aeb02f4b75942a49e51119595b271e4"
            }
          },
          "metadata": {}
        },
        {
          "output_type": "stream",
          "name": "stderr",
          "text": [
            "INFO:stanza:Downloading default packages for language: en (English) ...\n",
            "INFO:stanza:File exists: /root/stanza_resources/en/default.zip\n",
            "INFO:stanza:Finished downloading models and saved to /root/stanza_resources.\n",
            "INFO:stanza:Checking for updates to resources.json in case models have been updated.  Note: this behavior can be turned off with download_method=None or download_method=DownloadMethod.REUSE_RESOURCES\n"
          ]
        },
        {
          "output_type": "display_data",
          "data": {
            "text/plain": [
              "Downloading https://raw.githubusercontent.com/stanfordnlp/stanza-resources/main/resources_1.5.0.json:   0%|   …"
            ],
            "application/vnd.jupyter.widget-view+json": {
              "version_major": 2,
              "version_minor": 0,
              "model_id": "18724882f3da457aa48c031a1466362e"
            }
          },
          "metadata": {}
        },
        {
          "output_type": "stream",
          "name": "stderr",
          "text": [
            "INFO:stanza:Loading these models for language: en (English):\n",
            "========================\n",
            "| Processor | Package  |\n",
            "------------------------\n",
            "| tokenize  | combined |\n",
            "========================\n",
            "\n",
            "INFO:stanza:Using device: cpu\n",
            "INFO:stanza:Loading: tokenize\n",
            "INFO:stanza:Done loading processors!\n"
          ]
        },
        {
          "output_type": "stream",
          "name": "stdout",
          "text": [
            "Number of sentences produced by Spacy: 100\n",
            "Number of sentences produced by Stanza: 100\n",
            "Number of shared sentences: 2\n",
            "                                            sentence\n",
            "0  During this time period, women working in scie...\n",
            "1  This is a historical list dealing with women s...\n"
          ]
        }
      ]
    },
    {
      "cell_type": "code",
      "source": [
        "print(shared_df)\n"
      ],
      "metadata": {
        "colab": {
          "base_uri": "https://localhost:8080/"
        },
        "id": "ZM9WNIjHJewH",
        "outputId": "babc5802-9774-41dd-c0d7-e00d8e5b127d"
      },
      "execution_count": 17,
      "outputs": [
        {
          "output_type": "stream",
          "name": "stdout",
          "text": [
            "                                            sentence\n",
            "0  During this time period, women working in scie...\n",
            "1  This is a historical list dealing with women s...\n"
          ]
        }
      ]
    },
    {
      "cell_type": "code",
      "source": [
        "import matplotlib.pyplot as plt\n",
        "\n",
        "# Define the data for the graph\n",
        "labels = ['Spacy Sentences', 'Stanza Sentences', 'Shared Sentences']\n",
        "values = [num_spacy_sentences, num_stanza_sentences, len(shared_df)]\n",
        "\n",
        "# Create the bar graph\n",
        "plt.bar(labels, values)\n",
        "\n",
        "# Add labels to the graph\n",
        "plt.title('Sentences produced by Spacy and Stanza')\n",
        "plt.ylabel('Number of Sentences')\n",
        "\n",
        "# Show the graph\n",
        "plt.show()\n"
      ],
      "metadata": {
        "colab": {
          "base_uri": "https://localhost:8080/",
          "height": 452
        },
        "id": "z9oRhLUcPD2j",
        "outputId": "65030d7b-59ee-4693-bf3d-94ac27a33fbf"
      },
      "execution_count": 18,
      "outputs": [
        {
          "output_type": "display_data",
          "data": {
            "text/plain": [
              "<Figure size 640x480 with 1 Axes>"
            ],
            "image/png": "[encoded data removed]"
          },
          "metadata": {}
        }
      ]
    },
    {
      "cell_type": "code",
      "source": [
        "#using two libraries Spacy and NLTK"
      ],
      "metadata": {
        "id": "SV9gueRvMbch"
      },
      "execution_count": 22,
      "outputs": []
    },
    {
      "cell_type": "code",
      "source": [
        "import requests\n",
        "from bs4 import BeautifulSoup\n",
        "import re\n",
        "import pandas as pd\n",
        "import spacy\n",
        "import nltk\n",
        "\n",
        "# Download the Spacy English model\n",
        "spacy.load('en_core_web_sm')\n",
        "\n",
        "# Download the NLTK punkt tokenizer\n",
        "nltk.download('punkt')\n",
        "\n",
        "# Load the Spacy English model\n",
        "spacy_nlp = spacy.load('en_core_web_sm')\n",
        "\n",
        "#check if the source in a url or a local file\n",
        "\n",
        "def create_text_dataset(src, n):\n",
        "    if src.startswith('http'):\n",
        "        response = requests.get(src)\n",
        "        soup = BeautifulSoup(response.content, 'html.parser')\n",
        "        text = soup.get_text()\n",
        "    else:\n",
        "        with open(src, 'r') as f:\n",
        "            text = f.read()\n",
        "\n",
        "    # Use Spacy to split sentences and extract only the main content\n",
        "    doc = spacy_nlp(text)\n",
        "    main_content = []\n",
        "    for chunk in doc.noun_chunks:\n",
        "        if chunk.root.dep_ == 'nsubj' and chunk.root.head.pos_ == 'VERB':\n",
        "            sentence = chunk.sent\n",
        "            main_content.append(sentence.text)\n",
        "#use nltk to split the text into sentences\n",
        "    sentences = nltk.sent_tokenize(text)\n",
        "\n",
        "    # Filter out any empty strings or strings containing only whitespace\n",
        "    sentences = [s.strip() for s in sentences if s.strip()]\n",
        "\n",
        "    if n > len(sentences):\n",
        "        raise ValueError(\"Dataset size exceeds the number of available sentences.\")\n",
        "\n",
        "    # Use Spacy to split sentences\n",
        "    spacy_sentences = [sent.text for sent in spacy_nlp(text).sents]\n",
        "    spacy_sentences = [re.sub(r'[\\n^]', ' ', sent) for sent in spacy_sentences]\n",
        "\n",
        "    # Create a dataframe with the sentences\n",
        "    df = pd.DataFrame({'original': sentences[:n], 'spacy': spacy_sentences[:n]})\n",
        "\n",
        "    return df\n",
        "\n",
        "def get_shared_sentences(df):\n",
        "    # Get the set of sentences recognized by both Spacy and NLTK\n",
        "    spacy_set = set(df['spacy'])\n",
        "    nltk_set = set(df['original'])\n",
        "    shared_set = spacy_set.intersection(nltk_set)\n",
        "\n",
        "    # Create a dataframe with the shared sentences\n",
        "    shared_df = pd.DataFrame({'sentence': list(shared_set)})\n",
        "\n",
        "    return shared_df\n",
        "#result\n",
        "# with url\n",
        "src = \"https://en.wikipedia.org/wiki/List_of_female_scientists_in_the_20th_century\"\n",
        "n = 100\n",
        "dataset = create_text_dataset(src, n)\n",
        "\n",
        "# Compute and output the number of sentences produced by Spacy and NLTK\n",
        "num_spacy_sentences = len(dataset['spacy'])\n",
        "num_nltk_sentences = len(dataset['original'])\n",
        "print(f\"Number of sentences produced by Spacy: {num_spacy_sentences}\")\n",
        "print(f\"Number of sentences produced by NLTK: {num_nltk_sentences}\")\n",
        "\n",
        "# Output the set of sentences recognized by both libraries\n",
        "shared_df = get_shared_sentences(dataset)\n",
        "shared_df.to_csv('shared_sentences.csv', index=False)\n",
        "print(f\"Number of shared sentences: {len(shared_df)}\")\n",
        "print(shared_df.head())\n"
      ],
      "metadata": {
        "colab": {
          "base_uri": "https://localhost:8080/"
        },
        "id": "lRu8kB0HNmaM",
        "outputId": "cc8d6ff8-93f8-45bf-82ed-7437cbf13ee8"
      },
      "execution_count": 19,
      "outputs": [
        {
          "output_type": "stream",
          "name": "stderr",
          "text": [
            "[nltk_data] Downloading package punkt to /root/nltk_data...\n",
            "[nltk_data]   Package punkt is already up-to-date!\n"
          ]
        },
        {
          "output_type": "stream",
          "name": "stdout",
          "text": [
            "Number of sentences produced by Spacy: 100\n",
            "Number of sentences produced by NLTK: 100\n",
            "Number of shared sentences: 16\n",
            "                                            sentence\n",
            "0  During this time period, women working in scie...\n",
            "1                       IEEE Global History Network.\n",
            "2                     American Mathematical Society.\n",
            "3                                    iwonderweather.\n",
            "4                                              2012.\n"
          ]
        }
      ]
    },
    {
      "cell_type": "markdown",
      "source": [],
      "metadata": {
        "id": "KVhbOE_eQwy9"
      }
    },
    {
      "cell_type": "code",
      "source": [
        "print(shared_df)"
      ],
      "metadata": {
        "colab": {
          "base_uri": "https://localhost:8080/"
        },
        "id": "8dPXjvSJNuy9",
        "outputId": "a6b205ac-555a-4eff-c2eb-89a14c62aa11"
      },
      "execution_count": 20,
      "outputs": [
        {
          "output_type": "stream",
          "name": "stdout",
          "text": [
            "                                             sentence\n",
            "0   During this time period, women working in scie...\n",
            "1                        IEEE Global History Network.\n",
            "2                      American Mathematical Society.\n",
            "3                                     iwonderweather.\n",
            "4                                               2012.\n",
            "5        Archived from the original on 6 August 2013.\n",
            "6      Archived from the original on 17 October 2016.\n",
            "7      Archived from the original on 16 October 2014.\n",
            "8   Change Is Possible: Stories of Women And Minor...\n",
            "9        Archived from the original on 24 April 2013.\n",
            "10     Archived from the original on 11 October 2020.\n",
            "11                           Daejon Ilbo (in Korean).\n",
            "12                                              IEEE.\n",
            "13                                           Daejeon.\n",
            "14                                             p. 47.\n",
            "15                            ISBN 978-0-8218-3748-1.\n"
          ]
        }
      ]
    },
    {
      "cell_type": "code",
      "source": [
        "import matplotlib.pyplot as plt\n",
        "\n",
        "# Define the data for the graph\n",
        "labels = ['Spacy Sentences', 'Nltk Sentences', 'Shared Sentences']\n",
        "values = [num_spacy_sentences, num_nltk_sentences, len(shared_df)]\n",
        "\n",
        "# Create the bar graph\n",
        "plt.bar(labels, values)\n",
        "\n",
        "# Add labels to the graph\n",
        "plt.title('Sentences produced by Spacy and Stanza')\n",
        "plt.ylabel('Number of Sentences')\n",
        "\n",
        "# Show the graph\n",
        "plt.show()"
      ],
      "metadata": {
        "colab": {
          "base_uri": "https://localhost:8080/",
          "height": 452
        },
        "id": "nJL6DUj_N-KR",
        "outputId": "3b5ed22f-c82f-41b9-8295-a9cc3c8e0f86"
      },
      "execution_count": 21,
      "outputs": [
        {
          "output_type": "display_data",
          "data": {
            "text/plain": [
              "<Figure size 640x480 with 1 Axes>"
            ],
            "image/png": "[encoded data removed]"
          },
          "metadata": {}
        }
      ]
    }
  ]
}
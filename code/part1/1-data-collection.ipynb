{
 "cells": [
  {
   "attachments": {},
   "cell_type": "markdown",
   "metadata": {},
   "source": [
    "# Data Science Project - Part 1 : Data Collection"
   ]
  },
  {
   "attachments": {},
   "cell_type": "markdown",
   "metadata": {},
   "source": [
    "In this Notebook, we will collect texts from different categories in Wikipedia:\n",
    "- biographies of [US Presidents](https://en.wikipedia.org/wiki/List_of_presidents_of_the_United_States) \n",
    "- biographies of [Scientists Women in the 21st century](https://en.wikipedia.org/wiki/List_of_female_scientists_in_the_21st_century)"
   ]
  },
  {
   "cell_type": "code",
   "execution_count": 1,
   "metadata": {},
   "outputs": [],
   "source": [
    "import requests\n",
    "from bs4 import BeautifulSoup\n",
    "import pandas as pd\n",
    "import numpy as np\n",
    "from sklearn.utils import shuffle"
   ]
  },
  {
   "attachments": {},
   "cell_type": "markdown",
   "metadata": {},
   "source": [
    "## 1. Scraping\n",
    "### 1.1 Get the links for target texts  \n",
    "In this first section, we are interested in retrieving two lists of links: the links pointing at US Presidents biographies and the links pointing at Women Scientist biographies. "
   ]
  },
  {
   "cell_type": "code",
   "execution_count": 2,
   "metadata": {},
   "outputs": [],
   "source": [
    "BASE_WIKI = \"https://en.wikipedia.org\"\n",
    "BASE_URL_PRESIDENTS = \"/wiki/List_of_presidents_of_the_United_States\"\n",
    "BASE_URL_WOMEN_SCIENTISTS = \"/wiki/List_of_female_scientists_in_the_21st_century\"\n",
    "DATA_DIR = \"../../data/part1/\"\n",
    "UA = {'User-agent': 'Mozilla/5.0'}\n",
    "\n",
    "# Get links of US presidents pages\n",
    "def get_presidents_links():\n",
    "    r = requests.get(BASE_WIKI + BASE_URL_PRESIDENTS, headers=UA)\n",
    "    soup = BeautifulSoup(r.text, 'html.parser')\n",
    "    links = []\n",
    "\n",
    "    # Get the table containing the presidents list\n",
    "    pres_table = soup.find(\"table\", class_ = \"wikitable sortable\")\n",
    "\n",
    "    # Get the links of the presidents pages : the second link of each row\n",
    "    for table_row in pres_table.select('tbody > tr'):\n",
    "        row_links = table_row.select('td a[href]')\n",
    "        if len(row_links) > 1:\n",
    "            links.append(row_links[1]['href'])\n",
    "\n",
    "    return links\n",
    "\n",
    "# Get links of Women Scientists in the 21st century\n",
    "def get_women_scientists_links():\n",
    "    r = requests.get(BASE_WIKI + BASE_URL_WOMEN_SCIENTISTS, headers=UA)\n",
    "    soup = BeautifulSoup(r.text, 'html.parser')\n",
    "    links = []\n",
    "\n",
    "    # Get all the links that are in a list in the main content div\n",
    "    all_lists = soup.select('div.mw-parser-output ul li')\n",
    "    \n",
    "    for list in all_lists:\n",
    "\n",
    "        # We are only interested in the first link\n",
    "        link = list.find('a') \n",
    "\n",
    "        if link:\n",
    "            # Remove links that are not to articles\n",
    "            if link['href'].startswith(\"/wiki/Category:\") or link['href'].startswith(\"/wiki/File:\") or link['href'].startswith(\"/wiki/Portal:\"):\n",
    "                continue\n",
    "\n",
    "            elif link['href'].startswith(\"/wiki/\"):\n",
    "                links.append(link['href'])\n",
    "\n",
    "    return links"
   ]
  },
  {
   "cell_type": "code",
   "execution_count": 3,
   "metadata": {},
   "outputs": [
    {
     "name": "stdout",
     "output_type": "stream",
     "text": [
      "['/wiki/George_Washington', '/wiki/John_Adams', '/wiki/Thomas_Jefferson', '/wiki/James_Madison', '/wiki/James_Monroe'] ['/wiki/Mimoza_Hafizi', '/wiki/Laura_Mersini-Houghton', '/wiki/Af%C3%ABrdita_Veve%C3%A7ka_Priftaj', '/wiki/Yasmine_Amhis', '/wiki/Sonia_%C3%81lvarez_Leguizam%C3%B3n']\n"
     ]
    }
   ],
   "source": [
    "# Visualize a few links\n",
    "pres = get_presidents_links()[:5]\n",
    "sci = get_women_scientists_links()[:5]\n",
    "print(pres, sci)"
   ]
  },
  {
   "attachments": {},
   "cell_type": "markdown",
   "metadata": {},
   "source": [
    "### 1.2 Extract the content of the articles  \n",
    "Now we will extract the content of the articles. More precisely, we extract all the text that is enclosed in \\<p\\>\\</p\\> brackets (paragraphs)."
   ]
  },
  {
   "cell_type": "code",
   "execution_count": 4,
   "metadata": {},
   "outputs": [],
   "source": [
    "def extract_content_from_articles(links_list, category):\n",
    "    \n",
    "    data = []\n",
    "\n",
    "    for link in links_list:\n",
    "        r = requests.get(BASE_WIKI + link, headers=UA)\n",
    "        soup = BeautifulSoup(r.text, 'html.parser')\n",
    "\n",
    "        # Get the title of the article\n",
    "        title = soup.find(\"h1\", class_ = \"firstHeading\").text\n",
    "        if title == \"Main Page\":\n",
    "            print(link)\n",
    "\n",
    "        # Get the content of the article: all paragraphs that are inside the main content div\n",
    "        content = \"\".join([p.text for p in soup.select(\"#content p\")])\n",
    "\n",
    "        # Store the content of the article in a file\n",
    "        with open(DATA_DIR + category + \"/\" + title + \".txt\", \"w\", encoding=\"utf-8\") as f:\n",
    "            f.write(content)\n",
    "\n",
    "        data.append([title, content, category])\n",
    "    \n",
    "    return pd.DataFrame(data, columns = [\"title\", \"content\", \"category\"])\n"
   ]
  },
  {
   "attachments": {},
   "cell_type": "markdown",
   "metadata": {},
   "source": [
    "### 1.3 Store the data into files and pandas DataFrames"
   ]
  },
  {
   "cell_type": "code",
   "execution_count": 5,
   "metadata": {},
   "outputs": [],
   "source": [
    "def collect_texts_from_categories(categories):\n",
    "    \n",
    "    # Collect the links \n",
    "    president_links = get_presidents_links()\n",
    "    women_scientist_links = get_women_scientists_links()\n",
    "\n",
    "    # Store the texts\n",
    "    df1 = extract_content_from_articles(president_links, categories[0])\n",
    "    df2 = extract_content_from_articles(women_scientist_links, categories[1])\n",
    "\n",
    "    # Concatenate the dataframes\n",
    "    df = pd.concat([df1, df2], ignore_index=True)\n",
    "\n",
    "    # Shuffle the data\n",
    "    return shuffle(df, random_state=42)"
   ]
  },
  {
   "cell_type": "code",
   "execution_count": 6,
   "metadata": {},
   "outputs": [],
   "source": [
    "df = collect_texts_from_categories([\"US_Presidents\", \"Women_Scientists\"])"
   ]
  },
  {
   "attachments": {},
   "cell_type": "markdown",
   "metadata": {},
   "source": [
    "## 2. Inspect the collected data"
   ]
  },
  {
   "cell_type": "code",
   "execution_count": 7,
   "metadata": {},
   "outputs": [
    {
     "data": {
      "text/html": [
       "<div>\n",
       "<style scoped>\n",
       "    .dataframe tbody tr th:only-of-type {\n",
       "        vertical-align: middle;\n",
       "    }\n",
       "\n",
       "    .dataframe tbody tr th {\n",
       "        vertical-align: top;\n",
       "    }\n",
       "\n",
       "    .dataframe thead th {\n",
       "        text-align: right;\n",
       "    }\n",
       "</style>\n",
       "<table border=\"1\" class=\"dataframe\">\n",
       "  <thead>\n",
       "    <tr style=\"text-align: right;\">\n",
       "      <th></th>\n",
       "      <th>title</th>\n",
       "      <th>content</th>\n",
       "      <th>category</th>\n",
       "    </tr>\n",
       "  </thead>\n",
       "  <tbody>\n",
       "    <tr>\n",
       "      <th>287</th>\n",
       "      <td>Alice Alldredge</td>\n",
       "      <td>Alice Alldredge is an American oceanographer a...</td>\n",
       "      <td>Women_Scientists</td>\n",
       "    </tr>\n",
       "    <tr>\n",
       "      <th>329</th>\n",
       "      <td>Yolanda T. Moses</td>\n",
       "      <td>Yolanda Theresa Moses (born 1946) is an anthro...</td>\n",
       "      <td>Women_Scientists</td>\n",
       "    </tr>\n",
       "    <tr>\n",
       "      <th>323</th>\n",
       "      <td>Carolyn M. Mazure</td>\n",
       "      <td>Carolyn M. Mazure (born 1949) is an American p...</td>\n",
       "      <td>Women_Scientists</td>\n",
       "    </tr>\n",
       "    <tr>\n",
       "      <th>145</th>\n",
       "      <td>Merieme Chadid</td>\n",
       "      <td>Merieme Chadid (Arabic: مريم شديد; born 11 Oct...</td>\n",
       "      <td>Women_Scientists</td>\n",
       "    </tr>\n",
       "    <tr>\n",
       "      <th>55</th>\n",
       "      <td>Vandika Ervandovna Avetisyan</td>\n",
       "      <td>Vandika Ervandovna Avetisyan (born October 5, ...</td>\n",
       "      <td>Women_Scientists</td>\n",
       "    </tr>\n",
       "    <tr>\n",
       "      <th>...</th>\n",
       "      <td>...</td>\n",
       "      <td>...</td>\n",
       "      <td>...</td>\n",
       "    </tr>\n",
       "    <tr>\n",
       "      <th>71</th>\n",
       "      <td>Mary E. White</td>\n",
       "      <td>\\nMary Elizabeth White AM (22 February  1926 –...</td>\n",
       "      <td>Women_Scientists</td>\n",
       "    </tr>\n",
       "    <tr>\n",
       "      <th>106</th>\n",
       "      <td>Diane Massam</td>\n",
       "      <td>Diane Massam is a Canadian linguist, Professor...</td>\n",
       "      <td>Women_Scientists</td>\n",
       "    </tr>\n",
       "    <tr>\n",
       "      <th>270</th>\n",
       "      <td>Margaret Stanley (virologist)</td>\n",
       "      <td>\\nMargaret Anne Stanley, OBE FMedSci is a Brit...</td>\n",
       "      <td>Women_Scientists</td>\n",
       "    </tr>\n",
       "    <tr>\n",
       "      <th>348</th>\n",
       "      <td>Una Ryan</td>\n",
       "      <td>Una Ryan (born December 18, 1941) is a British...</td>\n",
       "      <td>Women_Scientists</td>\n",
       "    </tr>\n",
       "    <tr>\n",
       "      <th>102</th>\n",
       "      <td>Francesca M. Kerton</td>\n",
       "      <td>Francesca M. Kerton is a green chemist and Pro...</td>\n",
       "      <td>Women_Scientists</td>\n",
       "    </tr>\n",
       "  </tbody>\n",
       "</table>\n",
       "<p>378 rows × 3 columns</p>\n",
       "</div>"
      ],
      "text/plain": [
       "                             title   \n",
       "287                Alice Alldredge  \\\n",
       "329               Yolanda T. Moses   \n",
       "323              Carolyn M. Mazure   \n",
       "145                 Merieme Chadid   \n",
       "55    Vandika Ervandovna Avetisyan   \n",
       "..                             ...   \n",
       "71                   Mary E. White   \n",
       "106                   Diane Massam   \n",
       "270  Margaret Stanley (virologist)   \n",
       "348                       Una Ryan   \n",
       "102            Francesca M. Kerton   \n",
       "\n",
       "                                               content          category  \n",
       "287  Alice Alldredge is an American oceanographer a...  Women_Scientists  \n",
       "329  Yolanda Theresa Moses (born 1946) is an anthro...  Women_Scientists  \n",
       "323  Carolyn M. Mazure (born 1949) is an American p...  Women_Scientists  \n",
       "145  Merieme Chadid (Arabic: مريم شديد; born 11 Oct...  Women_Scientists  \n",
       "55   Vandika Ervandovna Avetisyan (born October 5, ...  Women_Scientists  \n",
       "..                                                 ...               ...  \n",
       "71   \\nMary Elizabeth White AM (22 February  1926 –...  Women_Scientists  \n",
       "106  Diane Massam is a Canadian linguist, Professor...  Women_Scientists  \n",
       "270  \\nMargaret Anne Stanley, OBE FMedSci is a Brit...  Women_Scientists  \n",
       "348  Una Ryan (born December 18, 1941) is a British...  Women_Scientists  \n",
       "102  Francesca M. Kerton is a green chemist and Pro...  Women_Scientists  \n",
       "\n",
       "[378 rows x 3 columns]"
      ]
     },
     "execution_count": 7,
     "metadata": {},
     "output_type": "execute_result"
    }
   ],
   "source": [
    "df"
   ]
  },
  {
   "cell_type": "code",
   "execution_count": 8,
   "metadata": {},
   "outputs": [],
   "source": [
    "# Shuffle and save the data\n",
    "df = shuffle(df, random_state=42)\n",
    "# df.to_csv(DATA_DIR + \"all_articles.csv\", index=False)"
   ]
  },
  {
   "attachments": {},
   "cell_type": "markdown",
   "metadata": {},
   "source": [
    "We observe that there are way more Women Scientists articles than US Presidents articles. We may want to balance the data by selecting only 46 Women Scientists."
   ]
  },
  {
   "cell_type": "code",
   "execution_count": 9,
   "metadata": {},
   "outputs": [],
   "source": [
    "pres_df = df[df['category'] == 'US_Presidents']\n",
    "women_sci_df = df[df['category'] == 'Women_Scientists']"
   ]
  },
  {
   "cell_type": "code",
   "execution_count": 10,
   "metadata": {},
   "outputs": [
    {
     "name": "stdout",
     "output_type": "stream",
     "text": [
      "46 332\n"
     ]
    }
   ],
   "source": [
    "print(len(pres_df), len(women_sci_df))"
   ]
  },
  {
   "cell_type": "code",
   "execution_count": 11,
   "metadata": {},
   "outputs": [
    {
     "data": {
      "text/plain": [
       "46"
      ]
     },
     "execution_count": 11,
     "metadata": {},
     "output_type": "execute_result"
    }
   ],
   "source": [
    "# Choose a sample of 46 lines\n",
    "sample_women_sci_df = women_sci_df.sample(n=46, random_state=42)\n",
    "len(sample_women_sci_df)"
   ]
  },
  {
   "cell_type": "code",
   "execution_count": 12,
   "metadata": {},
   "outputs": [
    {
     "data": {
      "text/html": [
       "<div>\n",
       "<style scoped>\n",
       "    .dataframe tbody tr th:only-of-type {\n",
       "        vertical-align: middle;\n",
       "    }\n",
       "\n",
       "    .dataframe tbody tr th {\n",
       "        vertical-align: top;\n",
       "    }\n",
       "\n",
       "    .dataframe thead th {\n",
       "        text-align: right;\n",
       "    }\n",
       "</style>\n",
       "<table border=\"1\" class=\"dataframe\">\n",
       "  <thead>\n",
       "    <tr style=\"text-align: right;\">\n",
       "      <th></th>\n",
       "      <th>title</th>\n",
       "      <th>content</th>\n",
       "      <th>category</th>\n",
       "    </tr>\n",
       "  </thead>\n",
       "  <tbody>\n",
       "    <tr>\n",
       "      <th>40</th>\n",
       "      <td>George H. W. Bush</td>\n",
       "      <td>\\nGeorge Herbert Walker Bush[a] (June 12, 1924...</td>\n",
       "      <td>US_Presidents</td>\n",
       "    </tr>\n",
       "    <tr>\n",
       "      <th>22</th>\n",
       "      <td>Rutherford B. Hayes</td>\n",
       "      <td>\\n\\nRutherford Birchard Hayes (/ˈrʌðərfərd/; O...</td>\n",
       "      <td>US_Presidents</td>\n",
       "    </tr>\n",
       "    <tr>\n",
       "      <th>55</th>\n",
       "      <td>Alice K. Jacobs</td>\n",
       "      <td>Alice K. Jacobs is a professor at the Boston U...</td>\n",
       "      <td>Women_Scientists</td>\n",
       "    </tr>\n",
       "    <tr>\n",
       "      <th>72</th>\n",
       "      <td>Carme Torras</td>\n",
       "      <td>Carme Torras Genís (born 4 July 1956)[1] is a ...</td>\n",
       "      <td>Women_Scientists</td>\n",
       "    </tr>\n",
       "    <tr>\n",
       "      <th>0</th>\n",
       "      <td>George W. Bush</td>\n",
       "      <td>\\nGeorge Walker Bush (born July 6, 1946) is an...</td>\n",
       "      <td>US_Presidents</td>\n",
       "    </tr>\n",
       "    <tr>\n",
       "      <th>...</th>\n",
       "      <td>...</td>\n",
       "      <td>...</td>\n",
       "      <td>...</td>\n",
       "    </tr>\n",
       "    <tr>\n",
       "      <th>20</th>\n",
       "      <td>Grover Cleveland</td>\n",
       "      <td>\\nStephen Grover Cleveland (March 18, 1837 – J...</td>\n",
       "      <td>US_Presidents</td>\n",
       "    </tr>\n",
       "    <tr>\n",
       "      <th>60</th>\n",
       "      <td>Sara Gill</td>\n",
       "      <td>Sara Gill (Urdu: سارہ گِل) is a Pakistani phys...</td>\n",
       "      <td>Women_Scientists</td>\n",
       "    </tr>\n",
       "    <tr>\n",
       "      <th>71</th>\n",
       "      <td>Lydia Kavraki</td>\n",
       "      <td>Lydia E. Kavraki (Greek: Λύδια Καβράκη) is a G...</td>\n",
       "      <td>Women_Scientists</td>\n",
       "    </tr>\n",
       "    <tr>\n",
       "      <th>14</th>\n",
       "      <td>Martin Van Buren</td>\n",
       "      <td>\\nMartin Van Buren (/væn ˈbjʊərən/ van BYURE-ə...</td>\n",
       "      <td>US_Presidents</td>\n",
       "    </tr>\n",
       "    <tr>\n",
       "      <th>51</th>\n",
       "      <td>Sandra Schmid</td>\n",
       "      <td>Sandra Louise Schmid (born March 7, 1958, in V...</td>\n",
       "      <td>Women_Scientists</td>\n",
       "    </tr>\n",
       "  </tbody>\n",
       "</table>\n",
       "<p>92 rows × 3 columns</p>\n",
       "</div>"
      ],
      "text/plain": [
       "                  title                                            content   \n",
       "40    George H. W. Bush  \\nGeorge Herbert Walker Bush[a] (June 12, 1924...  \\\n",
       "22  Rutherford B. Hayes  \\n\\nRutherford Birchard Hayes (/ˈrʌðərfərd/; O...   \n",
       "55      Alice K. Jacobs  Alice K. Jacobs is a professor at the Boston U...   \n",
       "72         Carme Torras  Carme Torras Genís (born 4 July 1956)[1] is a ...   \n",
       "0        George W. Bush  \\nGeorge Walker Bush (born July 6, 1946) is an...   \n",
       "..                  ...                                                ...   \n",
       "20     Grover Cleveland  \\nStephen Grover Cleveland (March 18, 1837 – J...   \n",
       "60            Sara Gill  Sara Gill (Urdu: سارہ گِل) is a Pakistani phys...   \n",
       "71        Lydia Kavraki  Lydia E. Kavraki (Greek: Λύδια Καβράκη) is a G...   \n",
       "14     Martin Van Buren  \\nMartin Van Buren (/væn ˈbjʊərən/ van BYURE-ə...   \n",
       "51        Sandra Schmid  Sandra Louise Schmid (born March 7, 1958, in V...   \n",
       "\n",
       "            category  \n",
       "40     US_Presidents  \n",
       "22     US_Presidents  \n",
       "55  Women_Scientists  \n",
       "72  Women_Scientists  \n",
       "0      US_Presidents  \n",
       "..               ...  \n",
       "20     US_Presidents  \n",
       "60  Women_Scientists  \n",
       "71  Women_Scientists  \n",
       "14     US_Presidents  \n",
       "51  Women_Scientists  \n",
       "\n",
       "[92 rows x 3 columns]"
      ]
     },
     "execution_count": 12,
     "metadata": {},
     "output_type": "execute_result"
    }
   ],
   "source": [
    "balanced_df = pd.concat([pres_df, sample_women_sci_df], ignore_index=True)\n",
    "# Shuffle and save the data\n",
    "balanced_df = shuffle(balanced_df, random_state=42)\n",
    "# balanced_df.to_csv(DATA_DIR + \"balanced_selection-46.csv\", index=False)\n",
    "balanced_df"
   ]
  }
 ],
 "metadata": {
  "kernelspec": {
   "display_name": "data-science-project-env",
   "language": "python",
   "name": "python3"
  },
  "language_info": {
   "codemirror_mode": {
    "name": "ipython",
    "version": 3
   },
   "file_extension": ".py",
   "mimetype": "text/x-python",
   "name": "python",
   "nbconvert_exporter": "python",
   "pygments_lexer": "ipython3",
   "version": "3.10.10"
  },
  "orig_nbformat": 4,
  "vscode": {
   "interpreter": {
    "hash": "188125c2f92a8b75914fcff08be1e34f53437c2b452ca5caae328fcbca634ef1"
   }
  }
 },
 "nbformat": 4,
 "nbformat_minor": 2
}

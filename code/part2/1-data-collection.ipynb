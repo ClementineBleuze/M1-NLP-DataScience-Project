{
  "cells": [
    {
      "attachments": {},
      "cell_type": "markdown",
      "metadata": {
        "id": "ZgP1y-W5QzLC"
      },
      "source": [
        "# Part 2 - 1: Data Collection"
      ]
    },
    {
      "attachments": {},
      "cell_type": "markdown",
      "metadata": {},
      "source": [
        "Here is the starting of Part 2 of our Data Science project 1.data Collection and Sentence Segmentation. We are here trying to collect text data using URL and compare with different python libraries like spacy,stanza and nltk."
      ]
    },
    {
      "attachments": {},
      "cell_type": "markdown",
      "metadata": {},
      "source": [
        "## 0. Imports and Downloads"
      ]
    },
    {
      "cell_type": "code",
      "execution_count": 1,
      "metadata": {},
      "outputs": [],
      "source": [
        "import requests\n",
        "from bs4 import BeautifulSoup\n",
        "import re\n",
        "import pandas as pd\n",
        "import spacy\n",
        "import nltk"
      ]
    },
    {
      "cell_type": "code",
      "execution_count": 2,
      "metadata": {},
      "outputs": [
        {
          "name": "stderr",
          "output_type": "stream",
          "text": [
            "[nltk_data] Downloading package punkt to\n",
            "[nltk_data]     C:\\Users\\bleuze3u\\AppData\\Roaming\\nltk_data...\n",
            "[nltk_data]   Package punkt is already up-to-date!\n"
          ]
        }
      ],
      "source": [
        "# Download the Spacy English model\n",
        "spacy.load('en_core_web_sm')\n",
        "\n",
        "# Download the NLTK punkt tokenizer\n",
        "nltk.download('punkt')\n",
        "\n",
        "# Load the Spacy English model\n",
        "spacy_nlp = spacy.load('en_core_web_sm')"
      ]
    },
    {
      "attachments": {},
      "cell_type": "markdown",
      "metadata": {},
      "source": [
        "## 1. Dataset extraction"
      ]
    },
    {
      "attachments": {},
      "cell_type": "markdown",
      "metadata": {},
      "source": [
        "In this part, we create a function (**create_text_dataset(src, n)**) that scrapes the provided source to retrieve a text of length n. By length n, we mean the **number of sentences**, naively considered as the number of utterances ending with a dot (\".\"). This approach allows us not to favor any linguistic library at the stage of data collection."
      ]
    },
    {
      "cell_type": "code",
      "execution_count": 40,
      "metadata": {},
      "outputs": [],
      "source": [
        "def create_text_dataset(src, n_sentences):\n",
        "    \n",
        "    # Option 1: we provide a website URL\n",
        "    if src.startswith('http'):\n",
        "\n",
        "        response = requests.get(src)\n",
        "        soup = BeautifulSoup(response.content, 'html.parser')\n",
        "        # We consider text content of an article to be all the text in <p> tags\n",
        "        text = \"\".join([p.text for p in soup.select(\"p\")])\n",
        "\n",
        "    # Option 2: we provide a local file path    \n",
        "    else:\n",
        "        with open(src, 'r') as f:\n",
        "\n",
        "            text = f.read()\n",
        "\n",
        "    # Keep only the first n sentences\n",
        "    # This is a very naive way of splitting text into sentences, but this is only to get an order of the size of the dataset\n",
        "    sentences = re.split(r'\\.', text)\n",
        "    sentences = [s + \".\" for s in sentences[:n_sentences]]\n",
        "\n",
        "    # We return the text only\n",
        "    return \".\".join(sentences)"
      ]
    },
    {
      "cell_type": "code",
      "execution_count": 84,
      "metadata": {},
      "outputs": [],
      "source": [
        "# Two examples of how to use the function\n",
        "src1 = \"https://en.wikipedia.org/wiki/List_of_female_scientists_in_the_20th_century\"\n",
        "src2 = \"../../data/Women_Scientists/Ada Yonath.txt\"\n",
        "\n",
        "n = 10\n",
        "text1 = create_text_dataset(src1, n)\n",
        "text2 = create_text_dataset(src2, n)"
      ]
    },
    {
      "attachments": {},
      "cell_type": "markdown",
      "metadata": {},
      "source": [
        "Example from a URL:"
      ]
    },
    {
      "cell_type": "code",
      "execution_count": 85,
      "metadata": {},
      "outputs": [
        {
          "data": {
            "text/plain": [
              "'\\n\\nThis is a historical list dealing with women scientists in the 20th century.. During this time period, women working in scientific fields were rare.. Women at this time faced barriers in higher education and often denied access to scientific institutions; in the Western world, the first-wave feminist movement began to break down many of these barriers..\\n.'"
            ]
          },
          "execution_count": 85,
          "metadata": {},
          "output_type": "execute_result"
        }
      ],
      "source": [
        "text1"
      ]
    },
    {
      "attachments": {},
      "cell_type": "markdown",
      "metadata": {},
      "source": [
        "Example from a local file:"
      ]
    },
    {
      "cell_type": "code",
      "execution_count": 83,
      "metadata": {},
      "outputs": [
        {
          "data": {
            "text/plain": [
              "'\\nAda E.. Yonath (Hebrew: ×¢×“×” ×™×•×\\xa0×ª, pronouncedÂ\\xa0[Ëˆada joËˆnat]; born 22 June 1939)[1] is a Nobel laureate crystallographer best known for her pioneering work on the structure of ribosomes.. She is the current director of the Helen and Milton A.. Kimmelman Center for Biomolecular Structure and Assembly of the Weizmann Institute of Science..\\nIn 2009, Yonath received the Nobel Prize in Chemistry along with Venkatraman Ramakrishnan and Thomas A.. Steitz for her studies on the structure and function of the ribosome, becoming the first Israeli woman to win the Nobel Prize out of ten Israeli Nobel laureates,[2] the first woman from the Middle East to win a Nobel prize in the sciences,[3] and the first woman in 45 years to win the Nobel Prize for Chemistry..[4]\\nAda Lifshitz (later Yonath)[5] was born in the Geula quarter of Jerusalem..[6] Her parents, Hillel and Esther Lifshitz, were Zionist Jews who immigrated to the British Mandate of Palestine (now Israel) from ZduÅ„ska Wola, Poland in 1933 before the establishment of Israel..[7] Her father was a rabbi and came from a rabbinical family.. They settled in Jerusalem and ran a grocery, but found it difficult to make ends meet.'"
            ]
          },
          "execution_count": 83,
          "metadata": {},
          "output_type": "execute_result"
        }
      ],
      "source": [
        "text2"
      ]
    },
    {
      "attachments": {},
      "cell_type": "markdown",
      "metadata": {},
      "source": [
        "We will now extract a dataset on which we will compare Spacy and NLTK."
      ]
    },
    {
      "cell_type": "code",
      "execution_count": 87,
      "metadata": {},
      "outputs": [],
      "source": [
        "src = \"https://en.wikipedia.org/wiki/Philosophy_of_science\"\n",
        "n = 100\n",
        "text = create_text_dataset(src, n)\n",
        "\n",
        "# Saving the text to a file\n",
        "with open(\"../../data/part2-dataset.txt\", \"w\") as f:\n",
        "    f.write(text)"
      ]
    },
    {
      "attachments": {},
      "cell_type": "markdown",
      "metadata": {},
      "source": [
        "## 2. Sentence segmentation"
      ]
    },
    {
      "attachments": {},
      "cell_type": "markdown",
      "metadata": {},
      "source": [
        "In this part, we compare the way Spacy and NLTK segment text into sentences."
      ]
    },
    {
      "attachments": {},
      "cell_type": "markdown",
      "metadata": {},
      "source": [
        "## 2.1 Apply segmentation (Spacy & NLTK)"
      ]
    },
    {
      "cell_type": "code",
      "execution_count": 88,
      "metadata": {},
      "outputs": [],
      "source": [
        "def analyze_sentences_spacy_nltk(text):\n",
        "\n",
        "    # Analyzing the text with Spacy\n",
        "    doc = spacy_nlp(text)\n",
        "    spacy_sentences = [sent.text for sent in doc.sents]\n",
        "\n",
        "    # Analyzing the text with NLTK\n",
        "    nltk_sentences = nltk.tokenize.sent_tokenize(text)\n",
        "\n",
        "    return spacy_sentences, nltk_sentences"
      ]
    },
    {
      "cell_type": "code",
      "execution_count": 89,
      "metadata": {},
      "outputs": [],
      "source": [
        "spacy_sentences, nltk_sentences = analyze_sentences_spacy_nltk(text)"
      ]
    },
    {
      "cell_type": "code",
      "execution_count": 90,
      "metadata": {},
      "outputs": [
        {
          "name": "stdout",
          "output_type": "stream",
          "text": [
            "Spacy sentences: 95\n",
            "NLTK sentences: 41\n"
          ]
        }
      ],
      "source": [
        "print(\"Spacy sentences:\", len(spacy_sentences))\n",
        "print(\"NLTK sentences:\", len(nltk_sentences))"
      ]
    },
    {
      "attachments": {},
      "cell_type": "markdown",
      "metadata": {},
      "source": [
        "## 2.2 Shared Sentences"
      ]
    },
    {
      "cell_type": "code",
      "execution_count": 91,
      "metadata": {},
      "outputs": [],
      "source": [
        "def get_shared_sentences(l1, l2):\n",
        "\n",
        "    # Get the set of sentences recognized by both Spacy and NLTK\n",
        "    s1, s2 = set(l1), set(l2)\n",
        "    shared_set = s1.intersection(s2)\n",
        "\n",
        "    # Create a dataframe with the shared sentences\n",
        "    shared_df = pd.DataFrame({'shared_sentence': list(shared_set)})\n",
        "\n",
        "    return shared_df"
      ]
    },
    {
      "cell_type": "code",
      "execution_count": 92,
      "metadata": {},
      "outputs": [
        {
          "data": {
            "text/html": [
              "<div>\n",
              "<style scoped>\n",
              "    .dataframe tbody tr th:only-of-type {\n",
              "        vertical-align: middle;\n",
              "    }\n",
              "\n",
              "    .dataframe tbody tr th {\n",
              "        vertical-align: top;\n",
              "    }\n",
              "\n",
              "    .dataframe thead th {\n",
              "        text-align: right;\n",
              "    }\n",
              "</style>\n",
              "<table border=\"1\" class=\"dataframe\">\n",
              "  <thead>\n",
              "    <tr style=\"text-align: right;\">\n",
              "      <th></th>\n",
              "      <th>shared_sentence</th>\n",
              "    </tr>\n",
              "  </thead>\n",
              "  <tbody>\n",
              "    <tr>\n",
              "      <th>0</th>\n",
              "      <td>Values emerge from science, both as product an...</td>\n",
              "    </tr>\n",
              "    <tr>\n",
              "      <th>1</th>\n",
              "      <td>The scientific enterprise is embedded in parti...</td>\n",
              "    </tr>\n",
              "    <tr>\n",
              "      <th>2</th>\n",
              "      <td>This discipline overlaps with metaphysics, ont...</td>\n",
              "    </tr>\n",
              "    <tr>\n",
              "      <th>3</th>\n",
              "      <td>Yet, although various measures of simplicity h...</td>\n",
              "    </tr>\n",
              "    <tr>\n",
              "      <th>4</th>\n",
              "      <td>The chicken may therefore use inductive reason...</td>\n",
              "    </tr>\n",
              "    <tr>\n",
              "      <th>5</th>\n",
              "      <td>One approach is to acknowledge that induction ...</td>\n",
              "    </tr>\n",
              "    <tr>\n",
              "      <th>6</th>\n",
              "      <td>Philosophers have tried to make this heuristic...</td>\n",
              "    </tr>\n",
              "    <tr>\n",
              "      <th>7</th>\n",
              "      <td>There is no consensus among philosophers about...</td>\n",
              "    </tr>\n",
              "    <tr>\n",
              "      <th>8</th>\n",
              "      <td>So the chicken would be right to conclude from...</td>\n",
              "    </tr>\n",
              "    <tr>\n",
              "      <th>9</th>\n",
              "      <td>In addition to these general questions about s...</td>\n",
              "    </tr>\n",
              "    <tr>\n",
              "      <th>10</th>\n",
              "      <td>The origins of philosophy of science trace bac...</td>\n",
              "    </tr>\n",
              "    <tr>\n",
              "      <th>11</th>\n",
              "      <td>\\nPhilosophy of science is a branch of philoso...</td>\n",
              "    </tr>\n",
              "    <tr>\n",
              "      <th>12</th>\n",
              "      <td>Philosophy of science focuses on metaphysical,...</td>\n",
              "    </tr>\n",
              "    <tr>\n",
              "      <th>13</th>\n",
              "      <td>Therefore, observations are affected by one's ...</td>\n",
              "    </tr>\n",
              "    <tr>\n",
              "      <th>14</th>\n",
              "      <td>The central questions of this study concern wh...</td>\n",
              "    </tr>\n",
              "    <tr>\n",
              "      <th>15</th>\n",
              "      <td>There are epistemic values that mainly guide t...</td>\n",
              "    </tr>\n",
              "  </tbody>\n",
              "</table>\n",
              "</div>"
            ],
            "text/plain": [
              "                                      shared_sentence\n",
              "0   Values emerge from science, both as product an...\n",
              "1   The scientific enterprise is embedded in parti...\n",
              "2   This discipline overlaps with metaphysics, ont...\n",
              "3   Yet, although various measures of simplicity h...\n",
              "4   The chicken may therefore use inductive reason...\n",
              "5   One approach is to acknowledge that induction ...\n",
              "6   Philosophers have tried to make this heuristic...\n",
              "7   There is no consensus among philosophers about...\n",
              "8   So the chicken would be right to conclude from...\n",
              "9   In addition to these general questions about s...\n",
              "10  The origins of philosophy of science trace bac...\n",
              "11  \\nPhilosophy of science is a branch of philoso...\n",
              "12  Philosophy of science focuses on metaphysical,...\n",
              "13  Therefore, observations are affected by one's ...\n",
              "14  The central questions of this study concern wh...\n",
              "15  There are epistemic values that mainly guide t..."
            ]
          },
          "execution_count": 92,
          "metadata": {},
          "output_type": "execute_result"
        }
      ],
      "source": [
        "shared = get_shared_sentences(spacy_sentences, nltk_sentences)\n",
        "shared"
      ]
    },
    {
      "cell_type": "code",
      "execution_count": 94,
      "metadata": {},
      "outputs": [
        {
          "name": "stdout",
          "output_type": "stream",
          "text": [
            "There are 16 sentences recognized by both Spacy and NLTK.\n"
          ]
        }
      ],
      "source": [
        "print(f\"There are {len(shared)} sentences recognized by both Spacy and NLTK.\")\n",
        "# shared.to_csv(\"../../data/part2-shared-sentences.csv\", index=False)"
      ]
    },
    {
      "cell_type": "code",
      "execution_count": 95,
      "metadata": {},
      "outputs": [
        {
          "name": "stdout",
          "output_type": "stream",
          "text": [
            "Sentence 4\n",
            "*NLTK:  Ethical issues such as bioethics and scientific misconduct are often considered ethics or science studies rather than the philosophy of science..\n",
            "*Spacy: Ethical issues such as bioethics and scientific misconduct are often considered ethics or science studies rather than the philosophy of science..\n",
            "\n",
            "\n",
            "Sentence 7\n",
            "*NLTK:  Some philosophers of science also use contemporary results in science to reach conclusions about philosophy itself..\n",
            "*Spacy: Some philosophers of science also use contemporary results in science to reach conclusions about philosophy itself..\n",
            "\n",
            "\n",
            "Sentence 8\n",
            "*NLTK:  While philosophical thought pertaining to science dates back at least to the time of Aristotle, general philosophy of science emerged as a distinct discipline only in the 20th century in the wake of the logical positivist movement, which aimed to formulate criteria for ensuring all philosophical statements' meaningfulness and objectively assessing them.. Karl Popper criticized logical positivism and helped establish a modern set of standards for scientific methodology.. Thomas Kuhn's 1962 book The Structure of Scientific Revolutions was also formative, challenging the view of scientific progress as the steady, cumulative acquisition of knowledge based on a fixed method of systematic experimentation and instead of arguing that any progress is relative to a \"paradigm\", the set of questions, concepts, and practices that define a scientific discipline in a particular historical period..[1]\n",
            "Subsequently, the coherentist approach to science, in which a theory is validated if it makes sense of observations as part of a coherent whole, became prominent due to W.. V.. Quine and others..\n",
            "*Spacy: While philosophical thought pertaining to science dates back at least to the time of Aristotle, general philosophy of science emerged as a distinct discipline only in the 20th century in the wake of the logical positivist movement, which aimed to formulate criteria for ensuring all philosophical statements' meaningfulness and objectively assessing them..\n",
            "\n",
            "Sentence 9\n",
            "*NLTK:  Some thinkers such as Stephen Jay Gould seek to ground science in axiomatic assumptions, such as the uniformity of nature.. A vocal minority of philosophers, and Paul Feyerabend in particular, argue that there is no such thing as the \"scientific method\", so all approaches to science should be allowed, including explicitly supernatural ones.. Another approach to thinking about science involves studying how knowledge is created from a sociological perspective, an approach represented by scholars like David Bloor and Barry Barnes..\n",
            "*Spacy: Karl Popper criticized logical positivism and helped establish a modern set of standards for scientific methodology..\n",
            "\n",
            "Sentence 10\n",
            "*NLTK:  Finally, a tradition in continental philosophy approaches science from the perspective of a rigorous analysis of human experience..\n",
            "Philosophies of the particular sciences range from questions about the nature of time raised by Einstein's general relativity, to the implications of economics for public policy.. A central theme is whether the terms of one scientific theory can be intra- or intertheoretically reduced to the terms of another.. That is, can chemistry be reduced to physics, or can sociology be reduced to individual psychology?\n",
            "*Spacy: Thomas Kuhn's 1962 book The Structure of Scientific Revolutions was also formative, challenging the view of scientific progress as the steady, cumulative acquisition of knowledge based on a fixed method of systematic experimentation and instead of arguing that any progress is relative to a \"paradigm\", the set of questions, concepts, and practices that define a scientific discipline in a particular historical period..\n",
            "\n",
            "Sentence 11\n",
            "*NLTK:  The general questions of philosophy of science also arise with greater specificity in some particular sciences.. For instance, the question of the validity of scientific reasoning is seen in a different guise in the foundations of statistics..\n",
            "*Spacy: [1]\n",
            "Subsequently, the coherentist approach to science, in which a theory is validated if it makes sense of observations as part of a coherent whole, became prominent due to W.. V.. Quine and others..\n",
            "\n",
            "Sentence 12\n",
            "*NLTK:  The question of what counts as science and what should be excluded arises as a life-or-death matter in the philosophy of medicine.. Additionally, the philosophies of biology, psychology, and the social sciences explore whether the scientific studies of human nature can achieve objectivity or are inevitably shaped by values and by social relations..\n",
            "Distinguishing between science and non-science is referred to as the demarcation problem.. For example, should psychoanalysis, creation science, and historical materialism be considered pseudosciences?\n",
            "*Spacy: Some thinkers such as Stephen Jay Gould seek to ground science in axiomatic assumptions, such as the uniformity of nature..\n",
            "\n",
            "Sentence 13\n",
            "*NLTK:  Karl Popper called this the central question in the philosophy of science..[2] However, no unified account of the problem has won acceptance among philosophers, and some regard the problem as unsolvable or uninteresting..[3][4] Martin Gardner has argued for the use of a Potter Stewart standard (\"I know it when I see it\") for recognizing pseudoscience..[5]\n",
            "Early attempts by the logical positivists grounded science in observation while non-science was non-observational and hence meaningless..[6] Popper argued that the central property of science is falsifiability.. That is, every genuinely scientific claim is capable of being proven false, at least in principle..[7]\n",
            "An area of study or speculation that masquerades as science in an attempt to claim a legitimacy that it would not otherwise be able to achieve is referred to as pseudoscience, fringe science, or junk science..[8] Physicist Richard Feynman coined the term \"cargo cult science\" for cases in which researchers believe they are doing science because their activities have the outward appearance of it but actually lack the \"kind of utter honesty\" that allows their results to be rigorously evaluated..[9]\n",
            "A closely related question is what counts as a good scientific explanation..\n",
            "*Spacy: A vocal minority of philosophers, and Paul Feyerabend in particular, argue that there is no such thing as the \"scientific method\", so all approaches to science should be allowed, including explicitly supernatural ones..\n",
            "\n",
            "Sentence 14\n",
            "*NLTK:  In addition to providing predictions about future events, society often takes scientific theories to provide explanations for events that occur regularly or have already occurred.. Philosophers have investigated the criteria by which a scientific theory can be said to have successfully explained a phenomenon, as well as what it means to say a scientific theory has explanatory power..\n",
            "One early and influential account of scientific explanation is the deductive-nomological model..\n",
            "*Spacy: Another approach to thinking about science involves studying how knowledge is created from a sociological perspective, an approach represented by scholars like David Bloor and Barry Barnes..\n",
            "\n",
            "Sentence 15\n",
            "*NLTK:  It says that a successful scientific explanation must deduce the occurrence of the phenomena in question from a scientific law..[10] This view has been subjected to substantial criticism, resulting in several widely acknowledged counterexamples to the theory..[11] It is especially challenging to characterize what is meant by an explanation when the thing to be explained cannot be deduced from any law because it is a matter of chance, or otherwise cannot be perfectly predicted from what is known.. Wesley Salmon developed a model in which a good scientific explanation must be statistically relevant to the outcome to be explained..[12][13] Others have argued that the key to a good explanation is unifying disparate phenomena or providing a causal mechanism..[13]\n",
            "Although it is often taken for granted, it is not at all clear how one can infer the validity of a general statement from a number of specific instances or infer the truth of a theory from a series of successful tests..[14] For example, a chicken observes that each morning the farmer comes and gives it food, for hundreds of days in a row..\n",
            "*Spacy: Finally, a tradition in continental philosophy approaches science from the perspective of a rigorous analysis of human experience..\n",
            "\n",
            "\n",
            "Sentence 16\n",
            "*NLTK:  The chicken may therefore use inductive reasoning to infer that the farmer will bring food every morning..\n",
            "*Spacy: Philosophies of the particular sciences range from questions about the nature of time raised by Einstein's general relativity, to the implications of economics for public policy..\n",
            "\n",
            "Sentence 17\n",
            "*NLTK:  However, one morning, the farmer comes and kills the chicken.. How is scientific reasoning more trustworthy than the chicken's reasoning?\n",
            "*Spacy: A central theme is whether the terms of one scientific theory can be intra- or intertheoretically reduced to the terms of another..\n",
            "\n",
            "Sentence 18\n",
            "*NLTK:  One approach is to acknowledge that induction cannot achieve certainty, but observing more instances of a general statement can at least make the general statement more probable..\n",
            "*Spacy: That is, can chemistry be reduced to physics, or can sociology be reduced to individual psychology?\n",
            "\n",
            "Sentence 19\n",
            "*NLTK:  So the chicken would be right to conclude from all those mornings that it is likely the farmer will come with food again the next morning, even if it cannot be certain..\n",
            "*Spacy: The general questions of philosophy of science also arise with greater specificity in some particular sciences..\n",
            "\n",
            "Sentence 20\n",
            "*NLTK:  However, there remain difficult questions about the process of interpreting any given evidence into a probability that the general statement is true.. One way out of these particular difficulties is to declare that all beliefs about scientific theories are subjective, or personal, and correct reasoning is merely about how evidence should change one's subjective beliefs over time..[14]\n",
            "Some argue that what scientists do is not inductive reasoning at all but rather abductive reasoning, or inference to the best explanation..\n",
            "*Spacy: For instance, the question of the validity of scientific reasoning is seen in a different guise in the foundations of statistics..\n",
            "\n",
            "Sentence 21\n",
            "*NLTK:  In this account, science is not about generalizing specific instances but rather about hypothesizing explanations for what is observed.. As discussed in the previous section, it is not always clear what is meant by the \"best explanation\".. Ockham's razor, which counsels choosing the simplest available explanation, thus plays an important role in some versions of this approach.. To return to the example of the chicken, would it be simpler to suppose that the farmer cares about it and will continue taking care of it indefinitely or that the farmer is fattening it up for slaughter?\n",
            "*Spacy: The question of what counts as science and what should be excluded arises as a life-or-death matter in the philosophy of medicine..\n",
            "\n",
            "Sentence 22\n",
            "*NLTK:  Philosophers have tried to make this heuristic principle more precise in terms of theoretical parsimony or other measures..\n",
            "*Spacy: Additionally, the philosophies of biology, psychology, and the social sciences explore whether the scientific studies of human nature can achieve objectivity or are inevitably shaped by values and by social relations..\n",
            "\n",
            "\n",
            "Sentence 23\n",
            "*NLTK:  Yet, although various measures of simplicity have been brought forward as potential candidates, it is generally accepted that there is no such thing as a theory-independent measure of simplicity..\n",
            "*Spacy: Distinguishing between science and non-science is referred to as the demarcation problem..\n",
            "\n",
            "Sentence 24\n",
            "*NLTK:  In other words, there appear to be as many different measures of simplicity as there are theories themselves, and the task of choosing between measures of simplicity appears to be every bit as problematic as the job of choosing between theories..[15] Nicholas Maxwell has argued for some decades that unity rather than simplicity is the key non-empirical factor in influencing choice of theory in science, persistent preference for unified theories in effect committing science to the acceptance of a metaphysical thesis concerning unity in nature..\n",
            "*Spacy: For example, should psychoanalysis, creation science, and historical materialism be considered pseudosciences?\n",
            "\n",
            "Sentence 25\n",
            "*NLTK:  In order to improve this problematic thesis, it needs to be represented in the form of a hierarchy of theses, each thesis becoming more insubstantial as one goes up the hierarchy..[16]\n",
            "When making observations, scientists look through telescopes, study images on electronic screens, record meter readings, and so on.. Generally, on a basic level, they can agree on what they see, e..g.., the thermometer shows 37..9 degrees C..\n",
            "*Spacy: Karl Popper called this the central question in the philosophy of science..\n",
            "\n",
            "Sentence 26\n",
            "*NLTK:  But, if these scientists have different ideas about the theories that have been developed to explain these basic observations, they may disagree about what they are observing.. For example, before Albert Einstein's general theory of relativity, observers would have likely interpreted an image of the Einstein cross as five different objects in space..\n",
            "*Spacy: [2] However, no unified account of the problem has won acceptance among philosophers, and some regard the problem as unsolvable or uninteresting..\n",
            "\n",
            "Sentence 27\n",
            "*NLTK:  In light of that theory, however, astronomers will tell you that there are actually only two objects, one in the center and four different images of a second object around the sides.. Alternatively, if other scientists suspect that something is wrong with the telescope and only one object is actually being observed, they are operating under yet another theory.. Observations that cannot be separated from theoretical interpretation are said to be theory-laden..[17]\n",
            "All observation involves both perception and cognition.. That is, one does not make an observation passively, but rather is actively engaged in distinguishing the phenomenon being observed from surrounding sensory data..\n",
            "*Spacy: [3][4] Martin Gardner has argued for the use of a Potter Stewart standard (\"I know it when I see it\") for recognizing pseudoscience..[5]\n",
            "Early attempts by the logical positivists grounded science in observation while non-science was non-observational and hence meaningless..[6] Popper argued that the central property of science is falsifiability..\n",
            "\n",
            "Sentence 28\n",
            "*NLTK:  Therefore, observations are affected by one's underlying understanding of the way in which the world functions, and that understanding may influence what is perceived, noticed, or deemed worthy of consideration..\n",
            "*Spacy: That is, every genuinely scientific claim is capable of being proven false, at least in principle..\n",
            "\n",
            "Sentence 29\n",
            "*NLTK:  In this sense, it can be argued that all observation is theory-laden..[17]\n",
            "Should science aim to determine ultimate truth, or are there questions that science cannot answer?\n",
            "*Spacy: [7]\n",
            "An area of study or speculation that masquerades as science in an attempt to claim a legitimacy that it would not otherwise be able to achieve is referred to as pseudoscience, fringe science, or junk science..\n",
            "\n",
            "Sentence 30\n",
            "*NLTK:  Scientific realists claim that science aims at truth and that one ought to regard scientific theories as true, approximately true, or likely true.. Conversely, scientific anti-realists argue that science does not aim (or at least does not succeed) at truth, especially truth about unobservables like electrons or other universes..[18] Instrumentalists argue that scientific theories should only be evaluated on whether they are useful..\n",
            "*Spacy: [8] Physicist Richard Feynman coined the term \"cargo cult science\" for cases in which researchers believe they are doing science because their activities have the outward appearance of it but actually lack the \"kind of utter honesty\" that allows their results to be rigorously evaluated..\n",
            "\n",
            "Sentence 31\n",
            "*NLTK:  In their view, whether theories are true or not is beside the point, because the purpose of science is to make predictions and enable effective technology..\n",
            "*Spacy: [9]\n",
            "A closely related question is what counts as a good scientific explanation..\n",
            "\n",
            "Sentence 32\n",
            "*NLTK:  Realists often point to the success of recent scientific theories as evidence for the truth (or near truth) of current theories..[19][20] Antirealists point to either the many false theories in the history of science,[21][22] epistemic morals,[23] the success of false modeling assumptions,[24] or widely termed postmodern criticisms of objectivity as evidence against scientific realism..[19] Antirealists attempt to explain the success of scientific theories without reference to truth..[25] Some antirealists claim that scientific theories aim at being accurate only about observable objects and argue that their success is primarily judged by that criterion..[23]\n",
            "Values intersect with science in different ways..\n",
            "*Spacy: In addition to providing predictions about future events, society often takes scientific theories to provide explanations for events that occur regularly or have already occurred..\n",
            "\n",
            "Sentence 33\n",
            "*NLTK:  There are epistemic values that mainly guide the scientific research..\n",
            "*Spacy: Philosophers have investigated the criteria by which a scientific theory can be said to have successfully explained a phenomenon, as well as what it means to say a scientific theory has explanatory power..\n",
            "\n",
            "\n",
            "Sentence 34\n",
            "*NLTK:  The scientific enterprise is embedded in particular culture and values through individual practitioners..\n",
            "*Spacy: One early and influential account of scientific explanation is the deductive-nomological model..\n",
            "\n",
            "Sentence 35\n",
            "*NLTK:  Values emerge from science, both as product and process and can be distributed among several cultures in the society..\n",
            "*Spacy: It says that a successful scientific explanation must deduce the occurrence of the phenomena in question from a scientific law..\n",
            "\n",
            "Sentence 36\n",
            "*NLTK:  When it comes to the justification of science in the sense of general public participation by single practitioners, science plays the role of a mediator between evaluating the standards and policies of society and its participating individuals, wherefore science indeed falls victim to vandalism and sabotage adapting the means to the end..[26]\n",
            "If it is unclear what counts as science, how the process of confirming theories works, and what the purpose of science is, there is considerable scope for values and other social influences to shape science..\n",
            "*Spacy: [10] This view has been subjected to substantial criticism, resulting in several widely acknowledged counterexamples to the theory..\n",
            "\n",
            "Sentence 37\n",
            "*NLTK:  Indeed, values can play a role ranging from determining which research gets funded to influencing which theories achieve scientific consensus..[27] For example, in the 19th century, cultural values held by scientists about race shaped research on evolution, and values concerning social class influenced debates on phrenology (considered scientific at the time)..[28] Feminist philosophers of science, sociologists of science, and others explore how social values affect science..\n",
            "*Spacy: [11] It is especially challenging to characterize what is meant by an explanation when the thing to be explained cannot be deduced from any law because it is a matter of chance, or otherwise cannot be perfectly predicted from what is known..\n",
            "\n",
            "Sentence 38\n",
            "*NLTK:  The origins of philosophy of science trace back to Plato and Aristotle,[29] who distinguished the forms of approximate and exact reasoning, set out the threefold scheme of abductive, deductive, and inductive inference, and also analyzed reasoning by analogy..\n",
            "*Spacy: Wesley Salmon developed a model in which a good scientific explanation must be statistically relevant to the outcome to be explained..\n",
            "\n",
            "Sentence 39\n",
            "*NLTK:  The eleventh century Arab polymath Ibn al-Haytham (known in Latin as Alhazen) conducted his research in optics by way of controlled experimental testing and applied geometry, especially in his investigations into the images resulting from the reflection and refraction of light.. Roger Bacon (1214–1294), an English thinker and experimenter heavily influenced by al-Haytham, is recognized by many to be the father of modern scientific method..[30] His view that mathematics was essential to a correct understanding of natural philosophy is considered to have been 400 years ahead of its time..[31]\n",
            "Francis Bacon (no direct relation to Roger, who lived 300 years earlier) was a seminal figure in philosophy of science at the time of the Scientific Revolution..\n",
            "*Spacy: [12][13] Others have argued that the key to a good explanation is unifying disparate phenomena or providing a causal mechanism..\n",
            "\n",
            "Sentence 40\n",
            "*NLTK:  In his work Novum Organum (1620)—an allusion to Aristotle's Organon—Bacon outlined a new system of logic to improve upon the old philosophical process of syllogism.. Bacon's method relied on experimental histories to eliminate alternative theories..[32] In 1637, René Descartes established a new framework for grounding scientific knowledge in his treatise, Discourse on Method, advocating the central role of reason as opposed to sensory experience.. By contrast, in 1713, the 2nd edition of Isaac Newton's Philosophiae Naturalis Principia Mathematica argued that \"...\n",
            "*Spacy: [13]\n",
            "Although it is often taken for granted, it is not at all clear how one can infer the validity of a general statement from a number of specific instances or infer the truth of a theory from a series of successful tests..\n",
            "\n"
          ]
        }
      ],
      "source": [
        "i = 0\n",
        "while i < len(nltk_sentences):\n",
        "\n",
        "    if nltk_sentences[i] != spacy_sentences[i]:\n",
        "\n",
        "        print(\"Sentence\", i)\n",
        "        print(\"*NLTK: \", nltk_sentences[i])\n",
        "        print(\"*Spacy:\", spacy_sentences[i])\n",
        "        print()\n",
        "        \n",
        "    i +=1"
      ]
    },
    {
      "cell_type": "code",
      "execution_count": 99,
      "metadata": {
        "colab": {
          "base_uri": "https://localhost:8080/",
          "height": 452
        },
        "id": "nJL6DUj_N-KR",
        "outputId": "3b5ed22f-c82f-41b9-8295-a9cc3c8e0f86"
      },
      "outputs": [
        {
          "data": {
            "image/png": "[encoded data removed]",
            "text/plain": [
              "<Figure size 640x480 with 1 Axes>"
            ]
          },
          "metadata": {},
          "output_type": "display_data"
        },
        {
          "data": {
            "text/plain": [
              "<Figure size 640x480 with 0 Axes>"
            ]
          },
          "metadata": {},
          "output_type": "display_data"
        }
      ],
      "source": [
        "import matplotlib.pyplot as plt\n",
        "\n",
        "# Define the data for the graph\n",
        "labels = [\"Naive\", 'Spacy', 'NLTK', 'Spacy & NLTK']\n",
        "values = [n, len(spacy_sentences), len(nltk_sentences), len(shared[\"shared_sentence\"])]\n",
        "\n",
        "# Create the bar graph\n",
        "plt.bar(labels, values)\n",
        "\n",
        "# Add labels to the graph\n",
        "plt.title('Number of Sentences produced by Spacy and NLTK')\n",
        "plt.ylabel('Number of Sentences')\n",
        "\n",
        "# Show the graph\n",
        "plt.show()\n",
        "# plt.savefig(\"../../data/plots/part2-sentences-barplots.png\", bbox_inches='tight')"
      ]
    }
  ],
  "metadata": {
    "colab": {
      "provenance": []
    },
    "kernelspec": {
      "display_name": "data-science-project-env",
      "language": "python",
      "name": "python3"
    },
    "language_info": {
      "codemirror_mode": {
        "name": "ipython",
        "version": 3
      },
      "file_extension": ".py",
      "mimetype": "text/x-python",
      "name": "python",
      "nbconvert_exporter": "python",
      "pygments_lexer": "ipython3",
      "version": "3.10.10"
    },
    "vscode": {
      "interpreter": {
        "hash": "188125c2f92a8b75914fcff08be1e34f53437c2b452ca5caae328fcbca634ef1"
      }
    },
    "widgets": {
      "application/vnd.jupyter.widget-state+json": {
        "00e462053a5449cd8462acfbc4e0d9f6": {
          "model_module": "@jupyter-widgets/controls",
          "model_module_version": "1.5.0",
          "model_name": "HTMLModel",
          "state": {
            "_dom_classes": [],
            "_model_module": "@jupyter-widgets/controls",
            "_model_module_version": "1.5.0",
            "_model_name": "HTMLModel",
            "_view_count": null,
            "_view_module": "@jupyter-widgets/controls",
            "_view_module_version": "1.5.0",
            "_view_name": "HTMLView",
            "description": "",
            "description_tooltip": null,
            "layout": "IPY_MODEL_6ab2e7900b5a40e5ba08871d82c40761",
            "placeholder": "​",
            "style": "IPY_MODEL_95ff4cce832349bc86e94bf2150af0ac",
            "value": "Downloading https://raw.githubusercontent.com/stanfordnlp/stanza-resources/main/resources_1.5.0.json: "
          }
        },
        "0ecb2647642844dd971837131296a72e": {
          "model_module": "@jupyter-widgets/controls",
          "model_module_version": "1.5.0",
          "model_name": "ProgressStyleModel",
          "state": {
            "_model_module": "@jupyter-widgets/controls",
            "_model_module_version": "1.5.0",
            "_model_name": "ProgressStyleModel",
            "_view_count": null,
            "_view_module": "@jupyter-widgets/base",
            "_view_module_version": "1.2.0",
            "_view_name": "StyleView",
            "bar_color": null,
            "description_width": ""
          }
        },
        "18724882f3da457aa48c031a1466362e": {
          "model_module": "@jupyter-widgets/controls",
          "model_module_version": "1.5.0",
          "model_name": "HBoxModel",
          "state": {
            "_dom_classes": [],
            "_model_module": "@jupyter-widgets/controls",
            "_model_module_version": "1.5.0",
            "_model_name": "HBoxModel",
            "_view_count": null,
            "_view_module": "@jupyter-widgets/controls",
            "_view_module_version": "1.5.0",
            "_view_name": "HBoxView",
            "box_style": "",
            "children": [
              "IPY_MODEL_2654d5782e484b78b4e8ba01560b89c1",
              "IPY_MODEL_d6b5b8c76226492dbf7c48893b7a43a2",
              "IPY_MODEL_19357aaa247f44b69d04414af8b95cfc"
            ],
            "layout": "IPY_MODEL_a838aab3275c473db21a6bb4765ed32c"
          }
        },
        "19357aaa247f44b69d04414af8b95cfc": {
          "model_module": "@jupyter-widgets/controls",
          "model_module_version": "1.5.0",
          "model_name": "HTMLModel",
          "state": {
            "_dom_classes": [],
            "_model_module": "@jupyter-widgets/controls",
            "_model_module_version": "1.5.0",
            "_model_name": "HTMLModel",
            "_view_count": null,
            "_view_module": "@jupyter-widgets/controls",
            "_view_module_version": "1.5.0",
            "_view_name": "HTMLView",
            "description": "",
            "description_tooltip": null,
            "layout": "IPY_MODEL_87d3fc3f06224e92b792abb1d247d626",
            "placeholder": "​",
            "style": "IPY_MODEL_4b2c1dbdda694f25b6011f02eb268167",
            "value": " 216k/? [00:00&lt;00:00, 10.4MB/s]"
          }
        },
        "24b0d1f1d7634bb6b35c5dfc065b0030": {
          "model_module": "@jupyter-widgets/base",
          "model_module_version": "1.2.0",
          "model_name": "LayoutModel",
          "state": {
            "_model_module": "@jupyter-widgets/base",
            "_model_module_version": "1.2.0",
            "_model_name": "LayoutModel",
            "_view_count": null,
            "_view_module": "@jupyter-widgets/base",
            "_view_module_version": "1.2.0",
            "_view_name": "LayoutView",
            "align_content": null,
            "align_items": null,
            "align_self": null,
            "border": null,
            "bottom": null,
            "display": null,
            "flex": null,
            "flex_flow": null,
            "grid_area": null,
            "grid_auto_columns": null,
            "grid_auto_flow": null,
            "grid_auto_rows": null,
            "grid_column": null,
            "grid_gap": null,
            "grid_row": null,
            "grid_template_areas": null,
            "grid_template_columns": null,
            "grid_template_rows": null,
            "height": null,
            "justify_content": null,
            "justify_items": null,
            "left": null,
            "margin": null,
            "max_height": null,
            "max_width": null,
            "min_height": null,
            "min_width": null,
            "object_fit": null,
            "object_position": null,
            "order": null,
            "overflow": null,
            "overflow_x": null,
            "overflow_y": null,
            "padding": null,
            "right": null,
            "top": null,
            "visibility": null,
            "width": null
          }
        },
        "2641ce6c2c5649dfb2cdfaa2b601d89e": {
          "model_module": "@jupyter-widgets/base",
          "model_module_version": "1.2.0",
          "model_name": "LayoutModel",
          "state": {
            "_model_module": "@jupyter-widgets/base",
            "_model_module_version": "1.2.0",
            "_model_name": "LayoutModel",
            "_view_count": null,
            "_view_module": "@jupyter-widgets/base",
            "_view_module_version": "1.2.0",
            "_view_name": "LayoutView",
            "align_content": null,
            "align_items": null,
            "align_self": null,
            "border": null,
            "bottom": null,
            "display": null,
            "flex": null,
            "flex_flow": null,
            "grid_area": null,
            "grid_auto_columns": null,
            "grid_auto_flow": null,
            "grid_auto_rows": null,
            "grid_column": null,
            "grid_gap": null,
            "grid_row": null,
            "grid_template_areas": null,
            "grid_template_columns": null,
            "grid_template_rows": null,
            "height": null,
            "justify_content": null,
            "justify_items": null,
            "left": null,
            "margin": null,
            "max_height": null,
            "max_width": null,
            "min_height": null,
            "min_width": null,
            "object_fit": null,
            "object_position": null,
            "order": null,
            "overflow": null,
            "overflow_x": null,
            "overflow_y": null,
            "padding": null,
            "right": null,
            "top": null,
            "visibility": null,
            "width": null
          }
        },
        "2654d5782e484b78b4e8ba01560b89c1": {
          "model_module": "@jupyter-widgets/controls",
          "model_module_version": "1.5.0",
          "model_name": "HTMLModel",
          "state": {
            "_dom_classes": [],
            "_model_module": "@jupyter-widgets/controls",
            "_model_module_version": "1.5.0",
            "_model_name": "HTMLModel",
            "_view_count": null,
            "_view_module": "@jupyter-widgets/controls",
            "_view_module_version": "1.5.0",
            "_view_name": "HTMLView",
            "description": "",
            "description_tooltip": null,
            "layout": "IPY_MODEL_f7724385c2714a8aab9043094b312980",
            "placeholder": "​",
            "style": "IPY_MODEL_375f5b6b97d246be888148c1c66fdb1d",
            "value": "Downloading https://raw.githubusercontent.com/stanfordnlp/stanza-resources/main/resources_1.5.0.json: "
          }
        },
        "375f5b6b97d246be888148c1c66fdb1d": {
          "model_module": "@jupyter-widgets/controls",
          "model_module_version": "1.5.0",
          "model_name": "DescriptionStyleModel",
          "state": {
            "_model_module": "@jupyter-widgets/controls",
            "_model_module_version": "1.5.0",
            "_model_name": "DescriptionStyleModel",
            "_view_count": null,
            "_view_module": "@jupyter-widgets/base",
            "_view_module_version": "1.2.0",
            "_view_name": "StyleView",
            "description_width": ""
          }
        },
        "4b2c1dbdda694f25b6011f02eb268167": {
          "model_module": "@jupyter-widgets/controls",
          "model_module_version": "1.5.0",
          "model_name": "DescriptionStyleModel",
          "state": {
            "_model_module": "@jupyter-widgets/controls",
            "_model_module_version": "1.5.0",
            "_model_name": "DescriptionStyleModel",
            "_view_count": null,
            "_view_module": "@jupyter-widgets/base",
            "_view_module_version": "1.2.0",
            "_view_name": "StyleView",
            "description_width": ""
          }
        },
        "56762d7ad81041c48cea373a8ae15c6b": {
          "model_module": "@jupyter-widgets/controls",
          "model_module_version": "1.5.0",
          "model_name": "ProgressStyleModel",
          "state": {
            "_model_module": "@jupyter-widgets/controls",
            "_model_module_version": "1.5.0",
            "_model_name": "ProgressStyleModel",
            "_view_count": null,
            "_view_module": "@jupyter-widgets/base",
            "_view_module_version": "1.2.0",
            "_view_name": "StyleView",
            "bar_color": null,
            "description_width": ""
          }
        },
        "6ab2e7900b5a40e5ba08871d82c40761": {
          "model_module": "@jupyter-widgets/base",
          "model_module_version": "1.2.0",
          "model_name": "LayoutModel",
          "state": {
            "_model_module": "@jupyter-widgets/base",
            "_model_module_version": "1.2.0",
            "_model_name": "LayoutModel",
            "_view_count": null,
            "_view_module": "@jupyter-widgets/base",
            "_view_module_version": "1.2.0",
            "_view_name": "LayoutView",
            "align_content": null,
            "align_items": null,
            "align_self": null,
            "border": null,
            "bottom": null,
            "display": null,
            "flex": null,
            "flex_flow": null,
            "grid_area": null,
            "grid_auto_columns": null,
            "grid_auto_flow": null,
            "grid_auto_rows": null,
            "grid_column": null,
            "grid_gap": null,
            "grid_row": null,
            "grid_template_areas": null,
            "grid_template_columns": null,
            "grid_template_rows": null,
            "height": null,
            "justify_content": null,
            "justify_items": null,
            "left": null,
            "margin": null,
            "max_height": null,
            "max_width": null,
            "min_height": null,
            "min_width": null,
            "object_fit": null,
            "object_position": null,
            "order": null,
            "overflow": null,
            "overflow_x": null,
            "overflow_y": null,
            "padding": null,
            "right": null,
            "top": null,
            "visibility": null,
            "width": null
          }
        },
        "7ece109dadf6480d90d86ef84af8530d": {
          "model_module": "@jupyter-widgets/controls",
          "model_module_version": "1.5.0",
          "model_name": "HTMLModel",
          "state": {
            "_dom_classes": [],
            "_model_module": "@jupyter-widgets/controls",
            "_model_module_version": "1.5.0",
            "_model_name": "HTMLModel",
            "_view_count": null,
            "_view_module": "@jupyter-widgets/controls",
            "_view_module_version": "1.5.0",
            "_view_name": "HTMLView",
            "description": "",
            "description_tooltip": null,
            "layout": "IPY_MODEL_2641ce6c2c5649dfb2cdfaa2b601d89e",
            "placeholder": "​",
            "style": "IPY_MODEL_ad32a89b6ef84f2080daaee4e04913b6",
            "value": " 216k/? [00:00&lt;00:00, 8.22MB/s]"
          }
        },
        "87d3fc3f06224e92b792abb1d247d626": {
          "model_module": "@jupyter-widgets/base",
          "model_module_version": "1.2.0",
          "model_name": "LayoutModel",
          "state": {
            "_model_module": "@jupyter-widgets/base",
            "_model_module_version": "1.2.0",
            "_model_name": "LayoutModel",
            "_view_count": null,
            "_view_module": "@jupyter-widgets/base",
            "_view_module_version": "1.2.0",
            "_view_name": "LayoutView",
            "align_content": null,
            "align_items": null,
            "align_self": null,
            "border": null,
            "bottom": null,
            "display": null,
            "flex": null,
            "flex_flow": null,
            "grid_area": null,
            "grid_auto_columns": null,
            "grid_auto_flow": null,
            "grid_auto_rows": null,
            "grid_column": null,
            "grid_gap": null,
            "grid_row": null,
            "grid_template_areas": null,
            "grid_template_columns": null,
            "grid_template_rows": null,
            "height": null,
            "justify_content": null,
            "justify_items": null,
            "left": null,
            "margin": null,
            "max_height": null,
            "max_width": null,
            "min_height": null,
            "min_width": null,
            "object_fit": null,
            "object_position": null,
            "order": null,
            "overflow": null,
            "overflow_x": null,
            "overflow_y": null,
            "padding": null,
            "right": null,
            "top": null,
            "visibility": null,
            "width": null
          }
        },
        "95ff4cce832349bc86e94bf2150af0ac": {
          "model_module": "@jupyter-widgets/controls",
          "model_module_version": "1.5.0",
          "model_name": "DescriptionStyleModel",
          "state": {
            "_model_module": "@jupyter-widgets/controls",
            "_model_module_version": "1.5.0",
            "_model_name": "DescriptionStyleModel",
            "_view_count": null,
            "_view_module": "@jupyter-widgets/base",
            "_view_module_version": "1.2.0",
            "_view_name": "StyleView",
            "description_width": ""
          }
        },
        "96a7f756fd7f4ed7ab3cf16a22fb825a": {
          "model_module": "@jupyter-widgets/controls",
          "model_module_version": "1.5.0",
          "model_name": "FloatProgressModel",
          "state": {
            "_dom_classes": [],
            "_model_module": "@jupyter-widgets/controls",
            "_model_module_version": "1.5.0",
            "_model_name": "FloatProgressModel",
            "_view_count": null,
            "_view_module": "@jupyter-widgets/controls",
            "_view_module_version": "1.5.0",
            "_view_name": "ProgressView",
            "bar_style": "success",
            "description": "",
            "description_tooltip": null,
            "layout": "IPY_MODEL_c37a49bc26374e73b3fa5535eff39e79",
            "max": 30015,
            "min": 0,
            "orientation": "horizontal",
            "style": "IPY_MODEL_0ecb2647642844dd971837131296a72e",
            "value": 30015
          }
        },
        "9aeb02f4b75942a49e51119595b271e4": {
          "model_module": "@jupyter-widgets/controls",
          "model_module_version": "1.5.0",
          "model_name": "HBoxModel",
          "state": {
            "_dom_classes": [],
            "_model_module": "@jupyter-widgets/controls",
            "_model_module_version": "1.5.0",
            "_model_name": "HBoxModel",
            "_view_count": null,
            "_view_module": "@jupyter-widgets/controls",
            "_view_module_version": "1.5.0",
            "_view_name": "HBoxView",
            "box_style": "",
            "children": [
              "IPY_MODEL_00e462053a5449cd8462acfbc4e0d9f6",
              "IPY_MODEL_96a7f756fd7f4ed7ab3cf16a22fb825a",
              "IPY_MODEL_7ece109dadf6480d90d86ef84af8530d"
            ],
            "layout": "IPY_MODEL_24b0d1f1d7634bb6b35c5dfc065b0030"
          }
        },
        "a838aab3275c473db21a6bb4765ed32c": {
          "model_module": "@jupyter-widgets/base",
          "model_module_version": "1.2.0",
          "model_name": "LayoutModel",
          "state": {
            "_model_module": "@jupyter-widgets/base",
            "_model_module_version": "1.2.0",
            "_model_name": "LayoutModel",
            "_view_count": null,
            "_view_module": "@jupyter-widgets/base",
            "_view_module_version": "1.2.0",
            "_view_name": "LayoutView",
            "align_content": null,
            "align_items": null,
            "align_self": null,
            "border": null,
            "bottom": null,
            "display": null,
            "flex": null,
            "flex_flow": null,
            "grid_area": null,
            "grid_auto_columns": null,
            "grid_auto_flow": null,
            "grid_auto_rows": null,
            "grid_column": null,
            "grid_gap": null,
            "grid_row": null,
            "grid_template_areas": null,
            "grid_template_columns": null,
            "grid_template_rows": null,
            "height": null,
            "justify_content": null,
            "justify_items": null,
            "left": null,
            "margin": null,
            "max_height": null,
            "max_width": null,
            "min_height": null,
            "min_width": null,
            "object_fit": null,
            "object_position": null,
            "order": null,
            "overflow": null,
            "overflow_x": null,
            "overflow_y": null,
            "padding": null,
            "right": null,
            "top": null,
            "visibility": null,
            "width": null
          }
        },
        "ad32a89b6ef84f2080daaee4e04913b6": {
          "model_module": "@jupyter-widgets/controls",
          "model_module_version": "1.5.0",
          "model_name": "DescriptionStyleModel",
          "state": {
            "_model_module": "@jupyter-widgets/controls",
            "_model_module_version": "1.5.0",
            "_model_name": "DescriptionStyleModel",
            "_view_count": null,
            "_view_module": "@jupyter-widgets/base",
            "_view_module_version": "1.2.0",
            "_view_name": "StyleView",
            "description_width": ""
          }
        },
        "c37a49bc26374e73b3fa5535eff39e79": {
          "model_module": "@jupyter-widgets/base",
          "model_module_version": "1.2.0",
          "model_name": "LayoutModel",
          "state": {
            "_model_module": "@jupyter-widgets/base",
            "_model_module_version": "1.2.0",
            "_model_name": "LayoutModel",
            "_view_count": null,
            "_view_module": "@jupyter-widgets/base",
            "_view_module_version": "1.2.0",
            "_view_name": "LayoutView",
            "align_content": null,
            "align_items": null,
            "align_self": null,
            "border": null,
            "bottom": null,
            "display": null,
            "flex": null,
            "flex_flow": null,
            "grid_area": null,
            "grid_auto_columns": null,
            "grid_auto_flow": null,
            "grid_auto_rows": null,
            "grid_column": null,
            "grid_gap": null,
            "grid_row": null,
            "grid_template_areas": null,
            "grid_template_columns": null,
            "grid_template_rows": null,
            "height": null,
            "justify_content": null,
            "justify_items": null,
            "left": null,
            "margin": null,
            "max_height": null,
            "max_width": null,
            "min_height": null,
            "min_width": null,
            "object_fit": null,
            "object_position": null,
            "order": null,
            "overflow": null,
            "overflow_x": null,
            "overflow_y": null,
            "padding": null,
            "right": null,
            "top": null,
            "visibility": null,
            "width": null
          }
        },
        "d23bdf913ff2412c9b60b1bcde5b53a2": {
          "model_module": "@jupyter-widgets/base",
          "model_module_version": "1.2.0",
          "model_name": "LayoutModel",
          "state": {
            "_model_module": "@jupyter-widgets/base",
            "_model_module_version": "1.2.0",
            "_model_name": "LayoutModel",
            "_view_count": null,
            "_view_module": "@jupyter-widgets/base",
            "_view_module_version": "1.2.0",
            "_view_name": "LayoutView",
            "align_content": null,
            "align_items": null,
            "align_self": null,
            "border": null,
            "bottom": null,
            "display": null,
            "flex": null,
            "flex_flow": null,
            "grid_area": null,
            "grid_auto_columns": null,
            "grid_auto_flow": null,
            "grid_auto_rows": null,
            "grid_column": null,
            "grid_gap": null,
            "grid_row": null,
            "grid_template_areas": null,
            "grid_template_columns": null,
            "grid_template_rows": null,
            "height": null,
            "justify_content": null,
            "justify_items": null,
            "left": null,
            "margin": null,
            "max_height": null,
            "max_width": null,
            "min_height": null,
            "min_width": null,
            "object_fit": null,
            "object_position": null,
            "order": null,
            "overflow": null,
            "overflow_x": null,
            "overflow_y": null,
            "padding": null,
            "right": null,
            "top": null,
            "visibility": null,
            "width": null
          }
        },
        "d6b5b8c76226492dbf7c48893b7a43a2": {
          "model_module": "@jupyter-widgets/controls",
          "model_module_version": "1.5.0",
          "model_name": "FloatProgressModel",
          "state": {
            "_dom_classes": [],
            "_model_module": "@jupyter-widgets/controls",
            "_model_module_version": "1.5.0",
            "_model_name": "FloatProgressModel",
            "_view_count": null,
            "_view_module": "@jupyter-widgets/controls",
            "_view_module_version": "1.5.0",
            "_view_name": "ProgressView",
            "bar_style": "success",
            "description": "",
            "description_tooltip": null,
            "layout": "IPY_MODEL_d23bdf913ff2412c9b60b1bcde5b53a2",
            "max": 30015,
            "min": 0,
            "orientation": "horizontal",
            "style": "IPY_MODEL_56762d7ad81041c48cea373a8ae15c6b",
            "value": 30015
          }
        },
        "f7724385c2714a8aab9043094b312980": {
          "model_module": "@jupyter-widgets/base",
          "model_module_version": "1.2.0",
          "model_name": "LayoutModel",
          "state": {
            "_model_module": "@jupyter-widgets/base",
            "_model_module_version": "1.2.0",
            "_model_name": "LayoutModel",
            "_view_count": null,
            "_view_module": "@jupyter-widgets/base",
            "_view_module_version": "1.2.0",
            "_view_name": "LayoutView",
            "align_content": null,
            "align_items": null,
            "align_self": null,
            "border": null,
            "bottom": null,
            "display": null,
            "flex": null,
            "flex_flow": null,
            "grid_area": null,
            "grid_auto_columns": null,
            "grid_auto_flow": null,
            "grid_auto_rows": null,
            "grid_column": null,
            "grid_gap": null,
            "grid_row": null,
            "grid_template_areas": null,
            "grid_template_columns": null,
            "grid_template_rows": null,
            "height": null,
            "justify_content": null,
            "justify_items": null,
            "left": null,
            "margin": null,
            "max_height": null,
            "max_width": null,
            "min_height": null,
            "min_width": null,
            "object_fit": null,
            "object_position": null,
            "order": null,
            "overflow": null,
            "overflow_x": null,
            "overflow_y": null,
            "padding": null,
            "right": null,
            "top": null,
            "visibility": null,
            "width": null
          }
        }
      }
    }
  },
  "nbformat": 4,
  "nbformat_minor": 0
}
